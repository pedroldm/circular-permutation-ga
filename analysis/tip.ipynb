{
 "cells": [
  {
   "cell_type": "code",
   "execution_count": 5,
   "id": "9ba60541",
   "metadata": {},
   "outputs": [],
   "source": [
    "import json\n",
    "import random\n",
    "import subprocess\n",
    "\n",
    "import pandas as pd\n",
    "import plotly.express as px"
   ]
  },
  {
   "cell_type": "code",
   "execution_count": null,
   "id": "f23a22a3",
   "metadata": {},
   "outputs": [],
   "source": [
    "main_path = \"/home/pedrowsl/circular-permutation-ga/tip_prd\"\n",
    "parameters = {\n",
    "    \"filePath\": \"/home/pedrowsl/circular-permutation-ga/input/tip/instances/y/y-60_t.txt\",\n",
    "    \"p\": 2000,\n",
    "    \"pe\": 0.10,\n",
    "    \"pm\": 0.20,\n",
    "    \"rhoe\": 0.60,\n",
    "    \"wheelBias\": 10.0,\n",
    "    \"mutationType\": 1,\n",
    "    \"crossoverType\": 3,\n",
    "    \"maxGens\": 5000,\n",
    "    \"maxGensWithoutImprovement\": 10000,\n",
    "    \"threads\": 15,\n",
    "    \"seed\": random.randint(10000, 1000000),\n",
    "    \"maxTime\": 10,\n",
    "}"
   ]
  },
  {
   "cell_type": "code",
   "execution_count": 20,
   "id": "1b6d2dc0",
   "metadata": {},
   "outputs": [],
   "source": [
    "command = [f\"{main_path}\"] + [f\"--{p}={v}\" for p, v in parameters.items()]\n",
    "result = subprocess.run(command, capture_output=True)\n",
    "output = json.loads(result.stdout)"
   ]
  },
  {
   "cell_type": "code",
   "execution_count": 21,
   "id": "ce4406a0",
   "metadata": {},
   "outputs": [
    {
     "data": {
      "application/vnd.plotly.v1+json": {
       "config": {
        "plotlyServerURL": "https://plot.ly"
       },
       "data": [
        {
         "customdata": [
          [
           "INITIAL",
           6.6e-8
          ],
          [
           "CYCLIC_CROSSOVER",
           0.032154522
          ],
          [
           "ORDER_CROSSOVER",
           0.035036658
          ],
          [
           "CYCLIC_CROSSOVER",
           0.051425346
          ],
          [
           "CYCLIC_CROSSOVER",
           0.05995997
          ],
          [
           "CYCLIC_CROSSOVER",
           0.062884067
          ],
          [
           "ORDER_CROSSOVER",
           0.070722853
          ],
          [
           "ORDER_CROSSOVER",
           0.074591894
          ],
          [
           "ORDER_CROSSOVER",
           0.088674775
          ],
          [
           "ORDER_CROSSOVER",
           0.093189601
          ],
          [
           "CYCLIC_CROSSOVER",
           0.09501284
          ],
          [
           "CYCLIC_CROSSOVER",
           0.100366075
          ],
          [
           "CYCLIC_CROSSOVER",
           0.102568484
          ],
          [
           "ORDER_CROSSOVER",
           0.155460688
          ],
          [
           "CYCLIC_CROSSOVER",
           0.16272982
          ],
          [
           "CYCLIC_CROSSOVER",
           0.164565349
          ],
          [
           "CYCLIC_CROSSOVER",
           0.172167552
          ],
          [
           "ORDER_CROSSOVER",
           0.201891784
          ],
          [
           "CYCLIC_CROSSOVER",
           0.212018654
          ],
          [
           "CYCLIC_CROSSOVER",
           0.227381294
          ],
          [
           "CYCLIC_CROSSOVER",
           0.234774133
          ],
          [
           "CYCLIC_CROSSOVER",
           0.290376193
          ],
          [
           "CYCLIC_CROSSOVER",
           0.299831007
          ],
          [
           "CYCLIC_CROSSOVER",
           0.330351202
          ],
          [
           "ORDER_CROSSOVER",
           0.344425527
          ],
          [
           "CYCLIC_CROSSOVER",
           0.404746597
          ],
          [
           "CYCLIC_CROSSOVER",
           0.412777937
          ],
          [
           "CYCLIC_CROSSOVER",
           0.418372355
          ],
          [
           "CYCLIC_CROSSOVER",
           0.420368405
          ],
          [
           "CYCLIC_CROSSOVER",
           0.429873169
          ],
          [
           "CYCLIC_CROSSOVER",
           0.438845074
          ],
          [
           "ORDER_CROSSOVER",
           0.452729377
          ],
          [
           "CYCLIC_CROSSOVER",
           0.455480133
          ],
          [
           "CYCLIC_CROSSOVER",
           0.466231213
          ],
          [
           "CYCLIC_CROSSOVER",
           0.469991556
          ],
          [
           "CYCLIC_CROSSOVER",
           0.476615448
          ],
          [
           "CYCLIC_CROSSOVER",
           0.498806906
          ],
          [
           "CYCLIC_CROSSOVER",
           0.50346267
          ],
          [
           "ORDER_CROSSOVER",
           0.519997102
          ],
          [
           "CYCLIC_CROSSOVER",
           0.529600011
          ],
          [
           "CYCLIC_CROSSOVER",
           0.54991298
          ],
          [
           "CYCLIC_CROSSOVER",
           0.55750027
          ],
          [
           "CYCLIC_CROSSOVER",
           0.575296413
          ],
          [
           "ORDER_CROSSOVER",
           0.593064722
          ],
          [
           "CYCLIC_CROSSOVER",
           0.598390616
          ],
          [
           "CYCLIC_CROSSOVER",
           0.608862968
          ],
          [
           "ORDER_CROSSOVER",
           0.612292335
          ],
          [
           "ORDER_CROSSOVER",
           0.621153954
          ],
          [
           "CYCLIC_CROSSOVER",
           0.62333761
          ],
          [
           "CYCLIC_CROSSOVER",
           0.633106102
          ],
          [
           "CYCLIC_CROSSOVER",
           0.635838431
          ],
          [
           "CYCLIC_CROSSOVER",
           0.643848373
          ],
          [
           "CYCLIC_CROSSOVER",
           0.664691373
          ],
          [
           "CYCLIC_CROSSOVER",
           0.669441689
          ],
          [
           "ORDER_CROSSOVER",
           0.742198834
          ],
          [
           "CYCLIC_CROSSOVER",
           0.754568387
          ],
          [
           "CYCLIC_CROSSOVER",
           0.763079382
          ],
          [
           "CYCLIC_CROSSOVER",
           0.787200961
          ],
          [
           "ORDER_CROSSOVER",
           0.813224299
          ],
          [
           "CYCLIC_CROSSOVER",
           0.821276624
          ],
          [
           "ORDER_CROSSOVER",
           0.823287519
          ],
          [
           "CYCLIC_CROSSOVER",
           0.825248758
          ],
          [
           "CYCLIC_CROSSOVER",
           0.836534461
          ],
          [
           "CYCLIC_CROSSOVER",
           0.905224376
          ],
          [
           "CYCLIC_CROSSOVER",
           0.943566288
          ],
          [
           "CYCLIC_CROSSOVER",
           0.948004512
          ],
          [
           "CYCLIC_CROSSOVER",
           0.96312933
          ],
          [
           "CYCLIC_CROSSOVER",
           1.002093124
          ],
          [
           "CYCLIC_CROSSOVER",
           1.036675994
          ],
          [
           "CYCLIC_CROSSOVER",
           1.05783852
          ],
          [
           "CYCLIC_CROSSOVER",
           1.07174833
          ],
          [
           "CYCLIC_CROSSOVER",
           1.073594025
          ],
          [
           "CYCLIC_CROSSOVER",
           1.083798065
          ],
          [
           "ORDER_CROSSOVER",
           1.091257631
          ],
          [
           "CYCLIC_CROSSOVER",
           1.095817376
          ],
          [
           "CYCLIC_CROSSOVER",
           1.123723513
          ],
          [
           "CYCLIC_CROSSOVER",
           1.126350551
          ],
          [
           "ORDER_CROSSOVER",
           1.132757473
          ],
          [
           "ORDER_CROSSOVER",
           1.140823653
          ],
          [
           "CYCLIC_CROSSOVER",
           1.143286492
          ],
          [
           "ORDER_CROSSOVER",
           1.163014689
          ],
          [
           "ORDER_CROSSOVER",
           1.164978865
          ],
          [
           "CYCLIC_CROSSOVER",
           1.183443803
          ],
          [
           "ORDER_CROSSOVER",
           1.195509255
          ],
          [
           "ORDER_CROSSOVER",
           1.20535028
          ],
          [
           "ORDER_CROSSOVER",
           1.218090803
          ],
          [
           "ORDER_CROSSOVER",
           1.22015862
          ],
          [
           "CYCLIC_CROSSOVER",
           1.223367758
          ],
          [
           "ORDER_CROSSOVER",
           1.27014555
          ],
          [
           "ORDER_CROSSOVER",
           1.279598038
          ],
          [
           "CYCLIC_CROSSOVER",
           1.283789058
          ],
          [
           "CYCLIC_CROSSOVER",
           1.291017436
          ],
          [
           "CYCLIC_CROSSOVER",
           1.316016624
          ],
          [
           "ORDER_CROSSOVER",
           1.32983597
          ],
          [
           "ORDER_CROSSOVER",
           1.334225188
          ],
          [
           "ORDER_CROSSOVER",
           1.341955609
          ],
          [
           "CYCLIC_CROSSOVER",
           1.364247144
          ],
          [
           "ORDER_CROSSOVER",
           1.388502072
          ],
          [
           "CYCLIC_CROSSOVER",
           1.391312838
          ],
          [
           "ORDER_CROSSOVER",
           1.408019157
          ],
          [
           "ORDER_CROSSOVER",
           1.419264395
          ],
          [
           "ORDER_CROSSOVER",
           1.462031934
          ],
          [
           "ORDER_CROSSOVER",
           1.533712631
          ],
          [
           "ORDER_CROSSOVER",
           1.558469721
          ],
          [
           "ORDER_CROSSOVER",
           1.572799083
          ],
          [
           "CYCLIC_CROSSOVER",
           1.588844345
          ],
          [
           "ORDER_CROSSOVER",
           1.59181564
          ],
          [
           "ORDER_CROSSOVER",
           1.594013249
          ],
          [
           "ORDER_CROSSOVER",
           1.603209773
          ],
          [
           "ORDER_CROSSOVER",
           1.609299818
          ],
          [
           "CYCLIC_CROSSOVER",
           1.614131153
          ],
          [
           "ORDER_CROSSOVER",
           1.625869701
          ],
          [
           "CYCLIC_CROSSOVER",
           1.664663549
          ],
          [
           "ORDER_CROSSOVER",
           1.678723936
          ],
          [
           "ORDER_CROSSOVER",
           1.687343419
          ],
          [
           "CYCLIC_CROSSOVER",
           1.693401145
          ],
          [
           "ORDER_CROSSOVER",
           1.756636039
          ],
          [
           "ORDER_CROSSOVER",
           1.796543432
          ],
          [
           "CYCLIC_CROSSOVER",
           1.8929028
          ],
          [
           "CYCLIC_CROSSOVER",
           1.977525387
          ],
          [
           "ORDER_CROSSOVER",
           2.236957534
          ]
         ],
         "hovertemplate": "Generation=%{x}<br>Best Fitness=%{y}<br>Origin=%{customdata[0]}<br>Elapsed Time (s)=%{customdata[1]:.6f}<extra></extra>",
         "legendgroup": "",
         "line": {
          "color": "#636efa",
          "dash": "solid"
         },
         "marker": {
          "symbol": "circle"
         },
         "mode": "lines+markers",
         "name": "",
         "orientation": "v",
         "showlegend": false,
         "type": "scatter",
         "x": {
          "bdata": "AQADAAQABgAHAAgACQALABEAEwAUABUAFgAhACQAJQAoACwALwA0ADUAPQBAAEIARQBSAFQAVgBXAFkAWgBcAF0AYQBjAGUAaQBqAGwAbgBzAHYAewB+AIAAgwCEAIcAiACKAIsAjACPAJAAmgCcAJ8AowCrAKwArQCuALEAwQDIAMkAywDQANcA2wDeAN8A4gDlAOcA7QDuAPEA8wD0APkA+gD9AP4AAAEFAQYBBwERARMBFQEYAR4BIQEjASYBLAEyATMBNQE2ATkBPQFAAUQBRwFIAUkBTAFNAU8BVAFdAWEBZAFlAXUBfgGTAacB7gE=",
          "dtype": "i2"
         },
         "xaxis": "x",
         "y": {
          "bdata": "C9UBAOTTAQCx0wEAxtIBAA/SAQDM0AEAfs8BAKjOAQBQzgEAPM4BANvMAQBGzAEAn8oBAGPKAQCjyQEAUskBAObIAQDCyAEADMgBABLHAQDCxQEARcUBACfEAQDXwQEAx8EBAN3AAQCwwAEApsABADjAAQAHwAEAVr8BANi+AQD/vQEAXr0BAEO9AQB4vAEAXLwBADG8AQB1uwEAM7sBAOm6AQDGuQEAsLkBAKG5AQBYuQEA1bgBAIy4AQB7uAEAZLgBAA+4AQC5twEAp7cBAHu2AQA3tgEAMbYBAAC2AQCgtQEAdrUBAGu1AQBYtQEAT7UBAOu0AQB/tAEAQ7QBADi0AQA1tAEADbQBAPWzAQDGswEAtbMBAKuzAQCYswEAlrMBAI+zAQCDswEAeLMBAHSzAQBoswEAUbMBAEyzAQBIswEAQ7MBAECzAQA6swEANLMBADKzAQAqswEAIrMBAB6zAQAWswEADrMBAAmzAQABswEA/LIBAPeyAQDwsgEA7LIBAOqyAQDksgEA4rIBAN6yAQDdsgEA3LIBANiyAQDXsgEA1rIBANWyAQDTsgEA0bIBANCyAQDNsgEAx7IBAMSyAQDBsgEAwLIBAL+yAQC9sgEAu7IBALqyAQC2sgEAs7IBAA==",
          "dtype": "i4"
         },
         "yaxis": "y"
        }
       ],
       "layout": {
        "font": {
         "size": 14
        },
        "hovermode": "x unified",
        "legend": {
         "tracegroupgap": 0
        },
        "template": {
         "data": {
          "bar": [
           {
            "error_x": {
             "color": "#2a3f5f"
            },
            "error_y": {
             "color": "#2a3f5f"
            },
            "marker": {
             "line": {
              "color": "white",
              "width": 0.5
             },
             "pattern": {
              "fillmode": "overlay",
              "size": 10,
              "solidity": 0.2
             }
            },
            "type": "bar"
           }
          ],
          "barpolar": [
           {
            "marker": {
             "line": {
              "color": "white",
              "width": 0.5
             },
             "pattern": {
              "fillmode": "overlay",
              "size": 10,
              "solidity": 0.2
             }
            },
            "type": "barpolar"
           }
          ],
          "carpet": [
           {
            "aaxis": {
             "endlinecolor": "#2a3f5f",
             "gridcolor": "#C8D4E3",
             "linecolor": "#C8D4E3",
             "minorgridcolor": "#C8D4E3",
             "startlinecolor": "#2a3f5f"
            },
            "baxis": {
             "endlinecolor": "#2a3f5f",
             "gridcolor": "#C8D4E3",
             "linecolor": "#C8D4E3",
             "minorgridcolor": "#C8D4E3",
             "startlinecolor": "#2a3f5f"
            },
            "type": "carpet"
           }
          ],
          "choropleth": [
           {
            "colorbar": {
             "outlinewidth": 0,
             "ticks": ""
            },
            "type": "choropleth"
           }
          ],
          "contour": [
           {
            "colorbar": {
             "outlinewidth": 0,
             "ticks": ""
            },
            "colorscale": [
             [
              0,
              "#0d0887"
             ],
             [
              0.1111111111111111,
              "#46039f"
             ],
             [
              0.2222222222222222,
              "#7201a8"
             ],
             [
              0.3333333333333333,
              "#9c179e"
             ],
             [
              0.4444444444444444,
              "#bd3786"
             ],
             [
              0.5555555555555556,
              "#d8576b"
             ],
             [
              0.6666666666666666,
              "#ed7953"
             ],
             [
              0.7777777777777778,
              "#fb9f3a"
             ],
             [
              0.8888888888888888,
              "#fdca26"
             ],
             [
              1,
              "#f0f921"
             ]
            ],
            "type": "contour"
           }
          ],
          "contourcarpet": [
           {
            "colorbar": {
             "outlinewidth": 0,
             "ticks": ""
            },
            "type": "contourcarpet"
           }
          ],
          "heatmap": [
           {
            "colorbar": {
             "outlinewidth": 0,
             "ticks": ""
            },
            "colorscale": [
             [
              0,
              "#0d0887"
             ],
             [
              0.1111111111111111,
              "#46039f"
             ],
             [
              0.2222222222222222,
              "#7201a8"
             ],
             [
              0.3333333333333333,
              "#9c179e"
             ],
             [
              0.4444444444444444,
              "#bd3786"
             ],
             [
              0.5555555555555556,
              "#d8576b"
             ],
             [
              0.6666666666666666,
              "#ed7953"
             ],
             [
              0.7777777777777778,
              "#fb9f3a"
             ],
             [
              0.8888888888888888,
              "#fdca26"
             ],
             [
              1,
              "#f0f921"
             ]
            ],
            "type": "heatmap"
           }
          ],
          "histogram": [
           {
            "marker": {
             "pattern": {
              "fillmode": "overlay",
              "size": 10,
              "solidity": 0.2
             }
            },
            "type": "histogram"
           }
          ],
          "histogram2d": [
           {
            "colorbar": {
             "outlinewidth": 0,
             "ticks": ""
            },
            "colorscale": [
             [
              0,
              "#0d0887"
             ],
             [
              0.1111111111111111,
              "#46039f"
             ],
             [
              0.2222222222222222,
              "#7201a8"
             ],
             [
              0.3333333333333333,
              "#9c179e"
             ],
             [
              0.4444444444444444,
              "#bd3786"
             ],
             [
              0.5555555555555556,
              "#d8576b"
             ],
             [
              0.6666666666666666,
              "#ed7953"
             ],
             [
              0.7777777777777778,
              "#fb9f3a"
             ],
             [
              0.8888888888888888,
              "#fdca26"
             ],
             [
              1,
              "#f0f921"
             ]
            ],
            "type": "histogram2d"
           }
          ],
          "histogram2dcontour": [
           {
            "colorbar": {
             "outlinewidth": 0,
             "ticks": ""
            },
            "colorscale": [
             [
              0,
              "#0d0887"
             ],
             [
              0.1111111111111111,
              "#46039f"
             ],
             [
              0.2222222222222222,
              "#7201a8"
             ],
             [
              0.3333333333333333,
              "#9c179e"
             ],
             [
              0.4444444444444444,
              "#bd3786"
             ],
             [
              0.5555555555555556,
              "#d8576b"
             ],
             [
              0.6666666666666666,
              "#ed7953"
             ],
             [
              0.7777777777777778,
              "#fb9f3a"
             ],
             [
              0.8888888888888888,
              "#fdca26"
             ],
             [
              1,
              "#f0f921"
             ]
            ],
            "type": "histogram2dcontour"
           }
          ],
          "mesh3d": [
           {
            "colorbar": {
             "outlinewidth": 0,
             "ticks": ""
            },
            "type": "mesh3d"
           }
          ],
          "parcoords": [
           {
            "line": {
             "colorbar": {
              "outlinewidth": 0,
              "ticks": ""
             }
            },
            "type": "parcoords"
           }
          ],
          "pie": [
           {
            "automargin": true,
            "type": "pie"
           }
          ],
          "scatter": [
           {
            "fillpattern": {
             "fillmode": "overlay",
             "size": 10,
             "solidity": 0.2
            },
            "type": "scatter"
           }
          ],
          "scatter3d": [
           {
            "line": {
             "colorbar": {
              "outlinewidth": 0,
              "ticks": ""
             }
            },
            "marker": {
             "colorbar": {
              "outlinewidth": 0,
              "ticks": ""
             }
            },
            "type": "scatter3d"
           }
          ],
          "scattercarpet": [
           {
            "marker": {
             "colorbar": {
              "outlinewidth": 0,
              "ticks": ""
             }
            },
            "type": "scattercarpet"
           }
          ],
          "scattergeo": [
           {
            "marker": {
             "colorbar": {
              "outlinewidth": 0,
              "ticks": ""
             }
            },
            "type": "scattergeo"
           }
          ],
          "scattergl": [
           {
            "marker": {
             "colorbar": {
              "outlinewidth": 0,
              "ticks": ""
             }
            },
            "type": "scattergl"
           }
          ],
          "scattermap": [
           {
            "marker": {
             "colorbar": {
              "outlinewidth": 0,
              "ticks": ""
             }
            },
            "type": "scattermap"
           }
          ],
          "scattermapbox": [
           {
            "marker": {
             "colorbar": {
              "outlinewidth": 0,
              "ticks": ""
             }
            },
            "type": "scattermapbox"
           }
          ],
          "scatterpolar": [
           {
            "marker": {
             "colorbar": {
              "outlinewidth": 0,
              "ticks": ""
             }
            },
            "type": "scatterpolar"
           }
          ],
          "scatterpolargl": [
           {
            "marker": {
             "colorbar": {
              "outlinewidth": 0,
              "ticks": ""
             }
            },
            "type": "scatterpolargl"
           }
          ],
          "scatterternary": [
           {
            "marker": {
             "colorbar": {
              "outlinewidth": 0,
              "ticks": ""
             }
            },
            "type": "scatterternary"
           }
          ],
          "surface": [
           {
            "colorbar": {
             "outlinewidth": 0,
             "ticks": ""
            },
            "colorscale": [
             [
              0,
              "#0d0887"
             ],
             [
              0.1111111111111111,
              "#46039f"
             ],
             [
              0.2222222222222222,
              "#7201a8"
             ],
             [
              0.3333333333333333,
              "#9c179e"
             ],
             [
              0.4444444444444444,
              "#bd3786"
             ],
             [
              0.5555555555555556,
              "#d8576b"
             ],
             [
              0.6666666666666666,
              "#ed7953"
             ],
             [
              0.7777777777777778,
              "#fb9f3a"
             ],
             [
              0.8888888888888888,
              "#fdca26"
             ],
             [
              1,
              "#f0f921"
             ]
            ],
            "type": "surface"
           }
          ],
          "table": [
           {
            "cells": {
             "fill": {
              "color": "#EBF0F8"
             },
             "line": {
              "color": "white"
             }
            },
            "header": {
             "fill": {
              "color": "#C8D4E3"
             },
             "line": {
              "color": "white"
             }
            },
            "type": "table"
           }
          ]
         },
         "layout": {
          "annotationdefaults": {
           "arrowcolor": "#2a3f5f",
           "arrowhead": 0,
           "arrowwidth": 1
          },
          "autotypenumbers": "strict",
          "coloraxis": {
           "colorbar": {
            "outlinewidth": 0,
            "ticks": ""
           }
          },
          "colorscale": {
           "diverging": [
            [
             0,
             "#8e0152"
            ],
            [
             0.1,
             "#c51b7d"
            ],
            [
             0.2,
             "#de77ae"
            ],
            [
             0.3,
             "#f1b6da"
            ],
            [
             0.4,
             "#fde0ef"
            ],
            [
             0.5,
             "#f7f7f7"
            ],
            [
             0.6,
             "#e6f5d0"
            ],
            [
             0.7,
             "#b8e186"
            ],
            [
             0.8,
             "#7fbc41"
            ],
            [
             0.9,
             "#4d9221"
            ],
            [
             1,
             "#276419"
            ]
           ],
           "sequential": [
            [
             0,
             "#0d0887"
            ],
            [
             0.1111111111111111,
             "#46039f"
            ],
            [
             0.2222222222222222,
             "#7201a8"
            ],
            [
             0.3333333333333333,
             "#9c179e"
            ],
            [
             0.4444444444444444,
             "#bd3786"
            ],
            [
             0.5555555555555556,
             "#d8576b"
            ],
            [
             0.6666666666666666,
             "#ed7953"
            ],
            [
             0.7777777777777778,
             "#fb9f3a"
            ],
            [
             0.8888888888888888,
             "#fdca26"
            ],
            [
             1,
             "#f0f921"
            ]
           ],
           "sequentialminus": [
            [
             0,
             "#0d0887"
            ],
            [
             0.1111111111111111,
             "#46039f"
            ],
            [
             0.2222222222222222,
             "#7201a8"
            ],
            [
             0.3333333333333333,
             "#9c179e"
            ],
            [
             0.4444444444444444,
             "#bd3786"
            ],
            [
             0.5555555555555556,
             "#d8576b"
            ],
            [
             0.6666666666666666,
             "#ed7953"
            ],
            [
             0.7777777777777778,
             "#fb9f3a"
            ],
            [
             0.8888888888888888,
             "#fdca26"
            ],
            [
             1,
             "#f0f921"
            ]
           ]
          },
          "colorway": [
           "#636efa",
           "#EF553B",
           "#00cc96",
           "#ab63fa",
           "#FFA15A",
           "#19d3f3",
           "#FF6692",
           "#B6E880",
           "#FF97FF",
           "#FECB52"
          ],
          "font": {
           "color": "#2a3f5f"
          },
          "geo": {
           "bgcolor": "white",
           "lakecolor": "white",
           "landcolor": "white",
           "showlakes": true,
           "showland": true,
           "subunitcolor": "#C8D4E3"
          },
          "hoverlabel": {
           "align": "left"
          },
          "hovermode": "closest",
          "mapbox": {
           "style": "light"
          },
          "paper_bgcolor": "white",
          "plot_bgcolor": "white",
          "polar": {
           "angularaxis": {
            "gridcolor": "#EBF0F8",
            "linecolor": "#EBF0F8",
            "ticks": ""
           },
           "bgcolor": "white",
           "radialaxis": {
            "gridcolor": "#EBF0F8",
            "linecolor": "#EBF0F8",
            "ticks": ""
           }
          },
          "scene": {
           "xaxis": {
            "backgroundcolor": "white",
            "gridcolor": "#DFE8F3",
            "gridwidth": 2,
            "linecolor": "#EBF0F8",
            "showbackground": true,
            "ticks": "",
            "zerolinecolor": "#EBF0F8"
           },
           "yaxis": {
            "backgroundcolor": "white",
            "gridcolor": "#DFE8F3",
            "gridwidth": 2,
            "linecolor": "#EBF0F8",
            "showbackground": true,
            "ticks": "",
            "zerolinecolor": "#EBF0F8"
           },
           "zaxis": {
            "backgroundcolor": "white",
            "gridcolor": "#DFE8F3",
            "gridwidth": 2,
            "linecolor": "#EBF0F8",
            "showbackground": true,
            "ticks": "",
            "zerolinecolor": "#EBF0F8"
           }
          },
          "shapedefaults": {
           "line": {
            "color": "#2a3f5f"
           }
          },
          "ternary": {
           "aaxis": {
            "gridcolor": "#DFE8F3",
            "linecolor": "#A2B1C6",
            "ticks": ""
           },
           "baxis": {
            "gridcolor": "#DFE8F3",
            "linecolor": "#A2B1C6",
            "ticks": ""
           },
           "bgcolor": "white",
           "caxis": {
            "gridcolor": "#DFE8F3",
            "linecolor": "#A2B1C6",
            "ticks": ""
           }
          },
          "title": {
           "x": 0.05
          },
          "xaxis": {
           "automargin": true,
           "gridcolor": "#EBF0F8",
           "linecolor": "#EBF0F8",
           "ticks": "",
           "title": {
            "standoff": 15
           },
           "zerolinecolor": "#EBF0F8",
           "zerolinewidth": 2
          },
          "yaxis": {
           "automargin": true,
           "gridcolor": "#EBF0F8",
           "linecolor": "#EBF0F8",
           "ticks": "",
           "title": {
            "standoff": 15
           },
           "zerolinecolor": "#EBF0F8",
           "zerolinewidth": 2
          }
         }
        },
        "title": {
         "font": {
          "size": 24
         },
         "text": "Genetic Algorithm Convergence"
        },
        "xaxis": {
         "anchor": "y",
         "domain": [
          0,
          1
         ],
         "title": {
          "font": {
           "size": 18
          },
          "text": "Generation"
         }
        },
        "yaxis": {
         "anchor": "x",
         "domain": [
          0,
          1
         ],
         "title": {
          "font": {
           "size": 18
          },
          "text": "Best Fitness"
         }
        }
       }
      }
     },
     "metadata": {},
     "output_type": "display_data"
    }
   ],
   "source": [
    "df = pd.DataFrame(output[\"convergence\"])\n",
    "\n",
    "fig = px.line(\n",
    "    df,\n",
    "    x=\"generation\",\n",
    "    y=\"fitness\",\n",
    "    title=\"Genetic Algorithm Convergence\",\n",
    "    markers=True,\n",
    "    hover_data={\"generation\": True, \"fitness\": True, \"origin\": True, \"elapsedSeconds\": \":.6f\"},\n",
    "    labels={\n",
    "        \"fitness\": \"Best Fitness\",\n",
    "        \"generation\": \"Generation\",\n",
    "        \"elapsedSeconds\": \"Elapsed Time (s)\",\n",
    "        \"origin\": \"Origin\",\n",
    "    },\n",
    ")\n",
    "\n",
    "fig.update_layout(\n",
    "    hovermode=\"x unified\",\n",
    "    template=\"plotly_white\",\n",
    "    title_font_size=24,\n",
    "    xaxis_title_font_size=18,\n",
    "    yaxis_title_font_size=18,\n",
    "    font=dict(size=14),\n",
    ")\n",
    "\n",
    "fig.show()"
   ]
  }
 ],
 "metadata": {
  "kernelspec": {
   "display_name": "Python 3",
   "language": "python",
   "name": "python3"
  },
  "language_info": {
   "codemirror_mode": {
    "name": "ipython",
    "version": 3
   },
   "file_extension": ".py",
   "mimetype": "text/x-python",
   "name": "python",
   "nbconvert_exporter": "python",
   "pygments_lexer": "ipython3",
   "version": "3.13.0"
  }
 },
 "nbformat": 4,
 "nbformat_minor": 5
}
