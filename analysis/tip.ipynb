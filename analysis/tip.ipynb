{
 "cells": [
  {
   "cell_type": "code",
   "execution_count": 4,
   "id": "9ba60541",
   "metadata": {},
   "outputs": [],
   "source": [
    "import json\n",
    "import random\n",
    "import subprocess\n",
    "\n",
    "import pandas as pd\n",
    "import plotly.express as px"
   ]
  },
  {
   "cell_type": "code",
   "execution_count": 5,
   "id": "f23a22a3",
   "metadata": {},
   "outputs": [],
   "source": [
    "main_path = \"/mnt/c/Users/pedro/OneDrive/Área de Trabalho/circular-permutation-ga/tip_prd\"\n",
    "parameters = {\n",
    "    \"filePath\": \"/mnt/c/Users/pedro/OneDrive/Área de Trabalho/circular-permutation-ga/input/tip/instances/y/y-60_t.txt\",\n",
    "    \"p\": 2000,\n",
    "    \"pe\": 0.10,\n",
    "    \"pm\": 0.20,\n",
    "    \"rhoe\": 0.60,\n",
    "    \"wheelBias\": 10.0,\n",
    "    \"mutationType\": 1,\n",
    "    \"crossoverType\": 3,\n",
    "    \"maxGens\": 2000,\n",
    "    \"maxGensWithoutImprovement\": 1000,\n",
    "    \"threads\": 4,\n",
    "    \"seed\": random.randint(10000, 1000000),\n",
    "    \"maxTime\": 10,\n",
    "    \"normalizePermutation\": 1\n",
    "}"
   ]
  },
  {
   "cell_type": "code",
   "execution_count": 6,
   "id": "1b6d2dc0",
   "metadata": {},
   "outputs": [],
   "source": [
    "command = [f\"{main_path}\"] + [f\"--{p}={v}\" for p, v in parameters.items()]\n",
    "result = subprocess.run(command, capture_output=True)\n",
    "output = json.loads(result.stdout)"
   ]
  },
  {
   "cell_type": "code",
   "execution_count": 7,
   "id": "ce4406a0",
   "metadata": {},
   "outputs": [
    {
     "data": {
      "application/vnd.plotly.v1+json": {
       "config": {
        "plotlyServerURL": "https://plot.ly"
       },
       "data": [
        {
         "customdata": [
          [
           "INITIAL",
           1.52e-7
          ],
          [
           "ORDER_CROSSOVER",
           0.01964322
          ],
          [
           "MUTATION",
           0.070418259
          ],
          [
           "ORDER_CROSSOVER",
           0.146775652
          ],
          [
           "CYCLIC_CROSSOVER",
           0.194517412
          ],
          [
           "CYCLIC_CROSSOVER",
           0.308057921
          ],
          [
           "CYCLIC_CROSSOVER",
           0.330686252
          ],
          [
           "CYCLIC_CROSSOVER",
           0.356262103
          ],
          [
           "ORDER_CROSSOVER",
           0.450228678
          ],
          [
           "CYCLIC_CROSSOVER",
           0.570735681
          ],
          [
           "ORDER_CROSSOVER",
           0.617140091
          ],
          [
           "CYCLIC_CROSSOVER",
           0.745650157
          ],
          [
           "CYCLIC_CROSSOVER",
           0.770888529
          ],
          [
           "ORDER_CROSSOVER",
           0.792348213
          ],
          [
           "ORDER_CROSSOVER",
           0.875311899
          ],
          [
           "ORDER_CROSSOVER",
           0.975139993
          ],
          [
           "ORDER_CROSSOVER",
           1.00333084
          ],
          [
           "ORDER_CROSSOVER",
           1.027772762
          ],
          [
           "CYCLIC_CROSSOVER",
           1.054922624
          ],
          [
           "ORDER_CROSSOVER",
           1.081872818
          ],
          [
           "CYCLIC_CROSSOVER",
           1.134835266
          ],
          [
           "CYCLIC_CROSSOVER",
           1.277802727
          ],
          [
           "CYCLIC_CROSSOVER",
           1.330593468
          ],
          [
           "CYCLIC_CROSSOVER",
           1.351290844
          ],
          [
           "ORDER_CROSSOVER",
           1.375074515
          ],
          [
           "ORDER_CROSSOVER",
           1.402539706
          ],
          [
           "CYCLIC_CROSSOVER",
           1.452155956
          ],
          [
           "CYCLIC_CROSSOVER",
           1.478131314
          ],
          [
           "CYCLIC_CROSSOVER",
           1.518726592
          ],
          [
           "CYCLIC_CROSSOVER",
           1.541466932
          ],
          [
           "ORDER_CROSSOVER",
           1.565226755
          ],
          [
           "CYCLIC_CROSSOVER",
           1.606687919
          ],
          [
           "CYCLIC_CROSSOVER",
           1.631760091
          ],
          [
           "ORDER_CROSSOVER",
           1.648460943
          ],
          [
           "CYCLIC_CROSSOVER",
           1.669787617
          ],
          [
           "ORDER_CROSSOVER",
           1.69780452
          ],
          [
           "CYCLIC_CROSSOVER",
           1.7283745
          ],
          [
           "CYCLIC_CROSSOVER",
           1.808306174
          ],
          [
           "CYCLIC_CROSSOVER",
           1.837083491
          ],
          [
           "ORDER_CROSSOVER",
           1.894089674
          ],
          [
           "ORDER_CROSSOVER",
           1.920648714
          ],
          [
           "CYCLIC_CROSSOVER",
           1.967010932
          ],
          [
           "ORDER_CROSSOVER",
           1.99565972
          ],
          [
           "CYCLIC_CROSSOVER",
           2.025345487
          ],
          [
           "CYCLIC_CROSSOVER",
           2.080764534
          ],
          [
           "ORDER_CROSSOVER",
           2.112801654
          ],
          [
           "CYCLIC_CROSSOVER",
           2.223903381
          ],
          [
           "CYCLIC_CROSSOVER",
           2.253811424
          ],
          [
           "CYCLIC_CROSSOVER",
           2.278722257
          ],
          [
           "CYCLIC_CROSSOVER",
           2.449835065
          ],
          [
           "ORDER_CROSSOVER",
           2.517188669
          ],
          [
           "ORDER_CROSSOVER",
           2.54855332
          ],
          [
           "ORDER_CROSSOVER",
           2.566652985
          ],
          [
           "CYCLIC_CROSSOVER",
           2.5907342
          ],
          [
           "CYCLIC_CROSSOVER",
           2.679921384
          ],
          [
           "CYCLIC_CROSSOVER",
           2.723778736
          ],
          [
           "CYCLIC_CROSSOVER",
           2.77975064
          ],
          [
           "MUTATION",
           2.824858823
          ],
          [
           "ORDER_CROSSOVER",
           2.972383759
          ],
          [
           "CYCLIC_CROSSOVER",
           2.993692832
          ],
          [
           "CYCLIC_CROSSOVER",
           3.024760227
          ],
          [
           "CYCLIC_CROSSOVER",
           3.092757131
          ],
          [
           "CYCLIC_CROSSOVER",
           3.170988272
          ],
          [
           "MUTATION",
           3.19195772
          ],
          [
           "ORDER_CROSSOVER",
           3.221356049
          ],
          [
           "ORDER_CROSSOVER",
           3.250001388
          ],
          [
           "CYCLIC_CROSSOVER",
           3.354829185
          ],
          [
           "CYCLIC_CROSSOVER",
           3.390635204
          ],
          [
           "ORDER_CROSSOVER",
           3.443831029
          ],
          [
           "ORDER_CROSSOVER",
           3.500545387
          ],
          [
           "CYCLIC_CROSSOVER",
           3.556530675
          ],
          [
           "CYCLIC_CROSSOVER",
           3.722499924
          ],
          [
           "ORDER_CROSSOVER",
           3.781702529
          ],
          [
           "CYCLIC_CROSSOVER",
           3.877016915
          ],
          [
           "CYCLIC_CROSSOVER",
           3.952728453
          ],
          [
           "CYCLIC_CROSSOVER",
           3.96787907
          ],
          [
           "ORDER_CROSSOVER",
           3.990552051
          ],
          [
           "ORDER_CROSSOVER",
           4.009487404
          ],
          [
           "ORDER_CROSSOVER",
           4.068798074
          ],
          [
           "ORDER_CROSSOVER",
           4.097807047
          ],
          [
           "CYCLIC_CROSSOVER",
           4.144617924
          ],
          [
           "CYCLIC_CROSSOVER",
           4.163569351
          ],
          [
           "ORDER_CROSSOVER",
           4.247891838
          ],
          [
           "ORDER_CROSSOVER",
           4.277673952
          ],
          [
           "ORDER_CROSSOVER",
           4.407293058
          ],
          [
           "ORDER_CROSSOVER",
           4.431885892
          ],
          [
           "ORDER_CROSSOVER",
           4.51471618
          ],
          [
           "CYCLIC_CROSSOVER",
           4.541812445
          ],
          [
           "ORDER_CROSSOVER",
           4.670308003
          ],
          [
           "CYCLIC_CROSSOVER",
           4.722506606
          ],
          [
           "ORDER_CROSSOVER",
           4.74701957
          ],
          [
           "ORDER_CROSSOVER",
           4.773834612
          ],
          [
           "ORDER_CROSSOVER",
           4.797748392
          ],
          [
           "CYCLIC_CROSSOVER",
           4.81944148
          ],
          [
           "ORDER_CROSSOVER",
           4.908636029
          ],
          [
           "MUTATION",
           4.937468065
          ],
          [
           "ORDER_CROSSOVER",
           4.978791336
          ],
          [
           "ORDER_CROSSOVER",
           5.044060147
          ],
          [
           "ORDER_CROSSOVER",
           5.123647522
          ],
          [
           "CYCLIC_CROSSOVER",
           5.148562159
          ],
          [
           "ORDER_CROSSOVER",
           5.174257352
          ],
          [
           "CYCLIC_CROSSOVER",
           5.193178729
          ],
          [
           "CYCLIC_CROSSOVER",
           5.247980532
          ],
          [
           "CYCLIC_CROSSOVER",
           5.275081388
          ],
          [
           "ORDER_CROSSOVER",
           5.299837677
          ],
          [
           "CYCLIC_CROSSOVER",
           5.510432953
          ],
          [
           "ORDER_CROSSOVER",
           5.639746488
          ],
          [
           "ORDER_CROSSOVER",
           5.685948357
          ],
          [
           "ORDER_CROSSOVER",
           5.706983229
          ],
          [
           "ORDER_CROSSOVER",
           5.732623195
          ],
          [
           "ORDER_CROSSOVER",
           5.749294869
          ],
          [
           "CYCLIC_CROSSOVER",
           5.77436668
          ],
          [
           "CYCLIC_CROSSOVER",
           5.813485512
          ],
          [
           "CYCLIC_CROSSOVER",
           5.862412368
          ],
          [
           "ORDER_CROSSOVER",
           5.933900268
          ],
          [
           "CYCLIC_CROSSOVER",
           6.047137196
          ],
          [
           "ORDER_CROSSOVER",
           6.074220287
          ],
          [
           "CYCLIC_CROSSOVER",
           6.095692278
          ],
          [
           "CYCLIC_CROSSOVER",
           6.156936834
          ],
          [
           "CYCLIC_CROSSOVER",
           6.176092228
          ],
          [
           "CYCLIC_CROSSOVER",
           6.230076471
          ],
          [
           "CYCLIC_CROSSOVER",
           6.328038411
          ],
          [
           "ORDER_CROSSOVER",
           6.382529768
          ],
          [
           "CYCLIC_CROSSOVER",
           6.407996508
          ],
          [
           "ORDER_CROSSOVER",
           6.511505589
          ],
          [
           "CYCLIC_CROSSOVER",
           6.536054466
          ],
          [
           "CYCLIC_CROSSOVER",
           6.564231537
          ],
          [
           "CYCLIC_CROSSOVER",
           6.593369243
          ],
          [
           "ORDER_CROSSOVER",
           6.883901529
          ],
          [
           "CYCLIC_CROSSOVER",
           7.11924661
          ],
          [
           "ORDER_CROSSOVER",
           7.145608834
          ],
          [
           "ORDER_CROSSOVER",
           7.308474508
          ],
          [
           "CYCLIC_CROSSOVER",
           7.36382891
          ],
          [
           "ORDER_CROSSOVER",
           7.408757992
          ],
          [
           "CYCLIC_CROSSOVER",
           7.512675145
          ],
          [
           "ORDER_CROSSOVER",
           7.684585707
          ],
          [
           "ORDER_CROSSOVER",
           7.714220994
          ],
          [
           "CYCLIC_CROSSOVER",
           7.77416665
          ],
          [
           "CYCLIC_CROSSOVER",
           7.95047404
          ],
          [
           "CYCLIC_CROSSOVER",
           8.15985422
          ],
          [
           "MUTATION",
           8.416644422
          ],
          [
           "ORDER_CROSSOVER",
           9.561049959
          ]
         ],
         "hovertemplate": "Generation=%{x}<br>Best Fitness=%{y}<br>Origin=%{customdata[0]}<br>Elapsed Time (s)=%{customdata[1]:.6f}<extra></extra>",
         "legendgroup": "",
         "line": {
          "color": "#636efa",
          "dash": "solid"
         },
         "marker": {
          "symbol": "circle"
         },
         "mode": "lines+markers",
         "name": "",
         "orientation": "v",
         "showlegend": false,
         "type": "scatter",
         "x": {
          "bdata": "AQACAAQABwAJAA0ADgAPABMAGAAaAB8AIAAhACUAKQAqACsALAAtAC8ANQA3ADgAOQA6ADwAPQA/AEAAQQBDAEQARQBGAEcASABLAEwATgBPAFEAUgBTAFUAVgBaAFsAXABjAGYAZwBoAGkAbQBvAHEAcwB5AHoAewB+AIEAggCDAIQAiACKAIwAjgCQAJYAmACcAJ8AoAChAKIApQCmAKgAqQCtAK4AswC0ALcAuAC9AL8AwADBAMIAwwDHAMgAygDNANAA0QDSANMA1QDWANcA3wDkAOYA5wDoAOkA6gDsAO4A8QD2APcA+AD7APwA/gACAQQBBQEJAQoBCwEMARYBHgEfASUBJwEpAS0BMwE0ATYBPAFEAU4BfQE=",
          "dtype": "i2"
         },
         "xaxis": "x",
         "y": {
          "bdata": "MtcBAFLVAQCQ0gEAE9EBAKjPAQAUzgEA4MsBAD/LAQBlyQEAwsgBADTIAQARyAEANccBAEbFAQC4xAEAl8QBAGvEAQBwwgEA/cEBAGzBAQBuwAEA8L8BALe/AQBSvwEAP78BAOe+AQCUvgEAbr4BACq+AQDvvQEA3L0BAJu9AQByvQEAMr0BANi8AQCvvAEAO7wBAC28AQCbuwEAlbsBAPC6AQDlugEAvLoBALq6AQCgugEALroBACG6AQDXuQEAMLkBAMm4AQC2uAEAqLgBAJW4AQAouAEAyrcBAL+3AQBZtwEAVbcBAEG3AQAGtwEA2rYBAK62AQCmtgEAlLYBAHG2AQBjtgEAXrYBAD22AQAutgEAHLYBAOG1AQDTtQEAvLUBALS1AQCktQEAn7UBAJ61AQCAtQEAdrUBAHC1AQButQEAWLUBAFK1AQBAtQEANLUBACS1AQAjtQEAGLUBABa1AQAVtQEADbUBAAe1AQAEtQEA97QBAPO0AQDytAEA5rQBAOG0AQDdtAEA1bQBANC0AQDOtAEAzbQBAMy0AQC7tAEAr7QBAK60AQCntAEAnLQBAJu0AQCatAEAlbQBAJC0AQCMtAEAhrQBAIS0AQCBtAEAf7QBAH60AQB8tAEAe7QBAHq0AQB4tAEAcrQBAHG0AQBvtAEAbLQBAGi0AQBmtAEAZLQBAGK0AQBgtAEAX7QBAFy0AQBbtAEAWrQBAFi0AQBRtAEATrQBAEy0AQBKtAEASbQBAA==",
          "dtype": "i4"
         },
         "yaxis": "y"
        }
       ],
       "layout": {
        "font": {
         "size": 14
        },
        "hovermode": "x unified",
        "legend": {
         "tracegroupgap": 0
        },
        "template": {
         "data": {
          "bar": [
           {
            "error_x": {
             "color": "#2a3f5f"
            },
            "error_y": {
             "color": "#2a3f5f"
            },
            "marker": {
             "line": {
              "color": "white",
              "width": 0.5
             },
             "pattern": {
              "fillmode": "overlay",
              "size": 10,
              "solidity": 0.2
             }
            },
            "type": "bar"
           }
          ],
          "barpolar": [
           {
            "marker": {
             "line": {
              "color": "white",
              "width": 0.5
             },
             "pattern": {
              "fillmode": "overlay",
              "size": 10,
              "solidity": 0.2
             }
            },
            "type": "barpolar"
           }
          ],
          "carpet": [
           {
            "aaxis": {
             "endlinecolor": "#2a3f5f",
             "gridcolor": "#C8D4E3",
             "linecolor": "#C8D4E3",
             "minorgridcolor": "#C8D4E3",
             "startlinecolor": "#2a3f5f"
            },
            "baxis": {
             "endlinecolor": "#2a3f5f",
             "gridcolor": "#C8D4E3",
             "linecolor": "#C8D4E3",
             "minorgridcolor": "#C8D4E3",
             "startlinecolor": "#2a3f5f"
            },
            "type": "carpet"
           }
          ],
          "choropleth": [
           {
            "colorbar": {
             "outlinewidth": 0,
             "ticks": ""
            },
            "type": "choropleth"
           }
          ],
          "contour": [
           {
            "colorbar": {
             "outlinewidth": 0,
             "ticks": ""
            },
            "colorscale": [
             [
              0,
              "#0d0887"
             ],
             [
              0.1111111111111111,
              "#46039f"
             ],
             [
              0.2222222222222222,
              "#7201a8"
             ],
             [
              0.3333333333333333,
              "#9c179e"
             ],
             [
              0.4444444444444444,
              "#bd3786"
             ],
             [
              0.5555555555555556,
              "#d8576b"
             ],
             [
              0.6666666666666666,
              "#ed7953"
             ],
             [
              0.7777777777777778,
              "#fb9f3a"
             ],
             [
              0.8888888888888888,
              "#fdca26"
             ],
             [
              1,
              "#f0f921"
             ]
            ],
            "type": "contour"
           }
          ],
          "contourcarpet": [
           {
            "colorbar": {
             "outlinewidth": 0,
             "ticks": ""
            },
            "type": "contourcarpet"
           }
          ],
          "heatmap": [
           {
            "colorbar": {
             "outlinewidth": 0,
             "ticks": ""
            },
            "colorscale": [
             [
              0,
              "#0d0887"
             ],
             [
              0.1111111111111111,
              "#46039f"
             ],
             [
              0.2222222222222222,
              "#7201a8"
             ],
             [
              0.3333333333333333,
              "#9c179e"
             ],
             [
              0.4444444444444444,
              "#bd3786"
             ],
             [
              0.5555555555555556,
              "#d8576b"
             ],
             [
              0.6666666666666666,
              "#ed7953"
             ],
             [
              0.7777777777777778,
              "#fb9f3a"
             ],
             [
              0.8888888888888888,
              "#fdca26"
             ],
             [
              1,
              "#f0f921"
             ]
            ],
            "type": "heatmap"
           }
          ],
          "histogram": [
           {
            "marker": {
             "pattern": {
              "fillmode": "overlay",
              "size": 10,
              "solidity": 0.2
             }
            },
            "type": "histogram"
           }
          ],
          "histogram2d": [
           {
            "colorbar": {
             "outlinewidth": 0,
             "ticks": ""
            },
            "colorscale": [
             [
              0,
              "#0d0887"
             ],
             [
              0.1111111111111111,
              "#46039f"
             ],
             [
              0.2222222222222222,
              "#7201a8"
             ],
             [
              0.3333333333333333,
              "#9c179e"
             ],
             [
              0.4444444444444444,
              "#bd3786"
             ],
             [
              0.5555555555555556,
              "#d8576b"
             ],
             [
              0.6666666666666666,
              "#ed7953"
             ],
             [
              0.7777777777777778,
              "#fb9f3a"
             ],
             [
              0.8888888888888888,
              "#fdca26"
             ],
             [
              1,
              "#f0f921"
             ]
            ],
            "type": "histogram2d"
           }
          ],
          "histogram2dcontour": [
           {
            "colorbar": {
             "outlinewidth": 0,
             "ticks": ""
            },
            "colorscale": [
             [
              0,
              "#0d0887"
             ],
             [
              0.1111111111111111,
              "#46039f"
             ],
             [
              0.2222222222222222,
              "#7201a8"
             ],
             [
              0.3333333333333333,
              "#9c179e"
             ],
             [
              0.4444444444444444,
              "#bd3786"
             ],
             [
              0.5555555555555556,
              "#d8576b"
             ],
             [
              0.6666666666666666,
              "#ed7953"
             ],
             [
              0.7777777777777778,
              "#fb9f3a"
             ],
             [
              0.8888888888888888,
              "#fdca26"
             ],
             [
              1,
              "#f0f921"
             ]
            ],
            "type": "histogram2dcontour"
           }
          ],
          "mesh3d": [
           {
            "colorbar": {
             "outlinewidth": 0,
             "ticks": ""
            },
            "type": "mesh3d"
           }
          ],
          "parcoords": [
           {
            "line": {
             "colorbar": {
              "outlinewidth": 0,
              "ticks": ""
             }
            },
            "type": "parcoords"
           }
          ],
          "pie": [
           {
            "automargin": true,
            "type": "pie"
           }
          ],
          "scatter": [
           {
            "fillpattern": {
             "fillmode": "overlay",
             "size": 10,
             "solidity": 0.2
            },
            "type": "scatter"
           }
          ],
          "scatter3d": [
           {
            "line": {
             "colorbar": {
              "outlinewidth": 0,
              "ticks": ""
             }
            },
            "marker": {
             "colorbar": {
              "outlinewidth": 0,
              "ticks": ""
             }
            },
            "type": "scatter3d"
           }
          ],
          "scattercarpet": [
           {
            "marker": {
             "colorbar": {
              "outlinewidth": 0,
              "ticks": ""
             }
            },
            "type": "scattercarpet"
           }
          ],
          "scattergeo": [
           {
            "marker": {
             "colorbar": {
              "outlinewidth": 0,
              "ticks": ""
             }
            },
            "type": "scattergeo"
           }
          ],
          "scattergl": [
           {
            "marker": {
             "colorbar": {
              "outlinewidth": 0,
              "ticks": ""
             }
            },
            "type": "scattergl"
           }
          ],
          "scattermap": [
           {
            "marker": {
             "colorbar": {
              "outlinewidth": 0,
              "ticks": ""
             }
            },
            "type": "scattermap"
           }
          ],
          "scattermapbox": [
           {
            "marker": {
             "colorbar": {
              "outlinewidth": 0,
              "ticks": ""
             }
            },
            "type": "scattermapbox"
           }
          ],
          "scatterpolar": [
           {
            "marker": {
             "colorbar": {
              "outlinewidth": 0,
              "ticks": ""
             }
            },
            "type": "scatterpolar"
           }
          ],
          "scatterpolargl": [
           {
            "marker": {
             "colorbar": {
              "outlinewidth": 0,
              "ticks": ""
             }
            },
            "type": "scatterpolargl"
           }
          ],
          "scatterternary": [
           {
            "marker": {
             "colorbar": {
              "outlinewidth": 0,
              "ticks": ""
             }
            },
            "type": "scatterternary"
           }
          ],
          "surface": [
           {
            "colorbar": {
             "outlinewidth": 0,
             "ticks": ""
            },
            "colorscale": [
             [
              0,
              "#0d0887"
             ],
             [
              0.1111111111111111,
              "#46039f"
             ],
             [
              0.2222222222222222,
              "#7201a8"
             ],
             [
              0.3333333333333333,
              "#9c179e"
             ],
             [
              0.4444444444444444,
              "#bd3786"
             ],
             [
              0.5555555555555556,
              "#d8576b"
             ],
             [
              0.6666666666666666,
              "#ed7953"
             ],
             [
              0.7777777777777778,
              "#fb9f3a"
             ],
             [
              0.8888888888888888,
              "#fdca26"
             ],
             [
              1,
              "#f0f921"
             ]
            ],
            "type": "surface"
           }
          ],
          "table": [
           {
            "cells": {
             "fill": {
              "color": "#EBF0F8"
             },
             "line": {
              "color": "white"
             }
            },
            "header": {
             "fill": {
              "color": "#C8D4E3"
             },
             "line": {
              "color": "white"
             }
            },
            "type": "table"
           }
          ]
         },
         "layout": {
          "annotationdefaults": {
           "arrowcolor": "#2a3f5f",
           "arrowhead": 0,
           "arrowwidth": 1
          },
          "autotypenumbers": "strict",
          "coloraxis": {
           "colorbar": {
            "outlinewidth": 0,
            "ticks": ""
           }
          },
          "colorscale": {
           "diverging": [
            [
             0,
             "#8e0152"
            ],
            [
             0.1,
             "#c51b7d"
            ],
            [
             0.2,
             "#de77ae"
            ],
            [
             0.3,
             "#f1b6da"
            ],
            [
             0.4,
             "#fde0ef"
            ],
            [
             0.5,
             "#f7f7f7"
            ],
            [
             0.6,
             "#e6f5d0"
            ],
            [
             0.7,
             "#b8e186"
            ],
            [
             0.8,
             "#7fbc41"
            ],
            [
             0.9,
             "#4d9221"
            ],
            [
             1,
             "#276419"
            ]
           ],
           "sequential": [
            [
             0,
             "#0d0887"
            ],
            [
             0.1111111111111111,
             "#46039f"
            ],
            [
             0.2222222222222222,
             "#7201a8"
            ],
            [
             0.3333333333333333,
             "#9c179e"
            ],
            [
             0.4444444444444444,
             "#bd3786"
            ],
            [
             0.5555555555555556,
             "#d8576b"
            ],
            [
             0.6666666666666666,
             "#ed7953"
            ],
            [
             0.7777777777777778,
             "#fb9f3a"
            ],
            [
             0.8888888888888888,
             "#fdca26"
            ],
            [
             1,
             "#f0f921"
            ]
           ],
           "sequentialminus": [
            [
             0,
             "#0d0887"
            ],
            [
             0.1111111111111111,
             "#46039f"
            ],
            [
             0.2222222222222222,
             "#7201a8"
            ],
            [
             0.3333333333333333,
             "#9c179e"
            ],
            [
             0.4444444444444444,
             "#bd3786"
            ],
            [
             0.5555555555555556,
             "#d8576b"
            ],
            [
             0.6666666666666666,
             "#ed7953"
            ],
            [
             0.7777777777777778,
             "#fb9f3a"
            ],
            [
             0.8888888888888888,
             "#fdca26"
            ],
            [
             1,
             "#f0f921"
            ]
           ]
          },
          "colorway": [
           "#636efa",
           "#EF553B",
           "#00cc96",
           "#ab63fa",
           "#FFA15A",
           "#19d3f3",
           "#FF6692",
           "#B6E880",
           "#FF97FF",
           "#FECB52"
          ],
          "font": {
           "color": "#2a3f5f"
          },
          "geo": {
           "bgcolor": "white",
           "lakecolor": "white",
           "landcolor": "white",
           "showlakes": true,
           "showland": true,
           "subunitcolor": "#C8D4E3"
          },
          "hoverlabel": {
           "align": "left"
          },
          "hovermode": "closest",
          "mapbox": {
           "style": "light"
          },
          "paper_bgcolor": "white",
          "plot_bgcolor": "white",
          "polar": {
           "angularaxis": {
            "gridcolor": "#EBF0F8",
            "linecolor": "#EBF0F8",
            "ticks": ""
           },
           "bgcolor": "white",
           "radialaxis": {
            "gridcolor": "#EBF0F8",
            "linecolor": "#EBF0F8",
            "ticks": ""
           }
          },
          "scene": {
           "xaxis": {
            "backgroundcolor": "white",
            "gridcolor": "#DFE8F3",
            "gridwidth": 2,
            "linecolor": "#EBF0F8",
            "showbackground": true,
            "ticks": "",
            "zerolinecolor": "#EBF0F8"
           },
           "yaxis": {
            "backgroundcolor": "white",
            "gridcolor": "#DFE8F3",
            "gridwidth": 2,
            "linecolor": "#EBF0F8",
            "showbackground": true,
            "ticks": "",
            "zerolinecolor": "#EBF0F8"
           },
           "zaxis": {
            "backgroundcolor": "white",
            "gridcolor": "#DFE8F3",
            "gridwidth": 2,
            "linecolor": "#EBF0F8",
            "showbackground": true,
            "ticks": "",
            "zerolinecolor": "#EBF0F8"
           }
          },
          "shapedefaults": {
           "line": {
            "color": "#2a3f5f"
           }
          },
          "ternary": {
           "aaxis": {
            "gridcolor": "#DFE8F3",
            "linecolor": "#A2B1C6",
            "ticks": ""
           },
           "baxis": {
            "gridcolor": "#DFE8F3",
            "linecolor": "#A2B1C6",
            "ticks": ""
           },
           "bgcolor": "white",
           "caxis": {
            "gridcolor": "#DFE8F3",
            "linecolor": "#A2B1C6",
            "ticks": ""
           }
          },
          "title": {
           "x": 0.05
          },
          "xaxis": {
           "automargin": true,
           "gridcolor": "#EBF0F8",
           "linecolor": "#EBF0F8",
           "ticks": "",
           "title": {
            "standoff": 15
           },
           "zerolinecolor": "#EBF0F8",
           "zerolinewidth": 2
          },
          "yaxis": {
           "automargin": true,
           "gridcolor": "#EBF0F8",
           "linecolor": "#EBF0F8",
           "ticks": "",
           "title": {
            "standoff": 15
           },
           "zerolinecolor": "#EBF0F8",
           "zerolinewidth": 2
          }
         }
        },
        "title": {
         "font": {
          "size": 24
         },
         "text": "Genetic Algorithm Convergence"
        },
        "xaxis": {
         "anchor": "y",
         "domain": [
          0,
          1
         ],
         "title": {
          "font": {
           "size": 18
          },
          "text": "Generation"
         }
        },
        "yaxis": {
         "anchor": "x",
         "domain": [
          0,
          1
         ],
         "title": {
          "font": {
           "size": 18
          },
          "text": "Best Fitness"
         }
        }
       }
      }
     },
     "metadata": {},
     "output_type": "display_data"
    }
   ],
   "source": [
    "df = pd.DataFrame(output[\"convergence\"])\n",
    "\n",
    "fig = px.line(\n",
    "    df,\n",
    "    x=\"generation\",\n",
    "    y=\"fitness\",\n",
    "    title=\"Genetic Algorithm Convergence\",\n",
    "    markers=True,\n",
    "    hover_data={\"generation\": True, \"fitness\": True, \"origin\": True, \"elapsedSeconds\": \":.6f\"},\n",
    "    labels={\n",
    "        \"fitness\": \"Best Fitness\",\n",
    "        \"generation\": \"Generation\",\n",
    "        \"elapsedSeconds\": \"Elapsed Time (s)\",\n",
    "        \"origin\": \"Origin\",\n",
    "    },\n",
    ")\n",
    "\n",
    "fig.update_layout(\n",
    "    hovermode=\"x unified\",\n",
    "    template=\"plotly_white\",\n",
    "    title_font_size=24,\n",
    "    xaxis_title_font_size=18,\n",
    "    yaxis_title_font_size=18,\n",
    "    font=dict(size=14),\n",
    ")\n",
    "\n",
    "fig.show()"
   ]
  },
  {
   "cell_type": "code",
   "execution_count": 8,
   "id": "2ba00358",
   "metadata": {},
   "outputs": [
    {
     "data": {
      "text/plain": [
       "{'convergence': [{'elapsedSeconds': 1.52e-07,\n",
       "   'fitness': 120626,\n",
       "   'generation': 1,\n",
       "   'origin': 'INITIAL'},\n",
       "  {'elapsedSeconds': 0.01964322,\n",
       "   'fitness': 120146,\n",
       "   'generation': 2,\n",
       "   'origin': 'ORDER_CROSSOVER'},\n",
       "  {'elapsedSeconds': 0.070418259,\n",
       "   'fitness': 119440,\n",
       "   'generation': 4,\n",
       "   'origin': 'MUTATION'},\n",
       "  {'elapsedSeconds': 0.146775652,\n",
       "   'fitness': 119059,\n",
       "   'generation': 7,\n",
       "   'origin': 'ORDER_CROSSOVER'},\n",
       "  {'elapsedSeconds': 0.194517412,\n",
       "   'fitness': 118696,\n",
       "   'generation': 9,\n",
       "   'origin': 'CYCLIC_CROSSOVER'},\n",
       "  {'elapsedSeconds': 0.308057921,\n",
       "   'fitness': 118292,\n",
       "   'generation': 13,\n",
       "   'origin': 'CYCLIC_CROSSOVER'},\n",
       "  {'elapsedSeconds': 0.330686252,\n",
       "   'fitness': 117728,\n",
       "   'generation': 14,\n",
       "   'origin': 'CYCLIC_CROSSOVER'},\n",
       "  {'elapsedSeconds': 0.356262103,\n",
       "   'fitness': 117567,\n",
       "   'generation': 15,\n",
       "   'origin': 'CYCLIC_CROSSOVER'},\n",
       "  {'elapsedSeconds': 0.450228678,\n",
       "   'fitness': 117093,\n",
       "   'generation': 19,\n",
       "   'origin': 'ORDER_CROSSOVER'},\n",
       "  {'elapsedSeconds': 0.570735681,\n",
       "   'fitness': 116930,\n",
       "   'generation': 24,\n",
       "   'origin': 'CYCLIC_CROSSOVER'},\n",
       "  {'elapsedSeconds': 0.617140091,\n",
       "   'fitness': 116788,\n",
       "   'generation': 26,\n",
       "   'origin': 'ORDER_CROSSOVER'},\n",
       "  {'elapsedSeconds': 0.745650157,\n",
       "   'fitness': 116753,\n",
       "   'generation': 31,\n",
       "   'origin': 'CYCLIC_CROSSOVER'},\n",
       "  {'elapsedSeconds': 0.770888529,\n",
       "   'fitness': 116533,\n",
       "   'generation': 32,\n",
       "   'origin': 'CYCLIC_CROSSOVER'},\n",
       "  {'elapsedSeconds': 0.792348213,\n",
       "   'fitness': 116038,\n",
       "   'generation': 33,\n",
       "   'origin': 'ORDER_CROSSOVER'},\n",
       "  {'elapsedSeconds': 0.875311899,\n",
       "   'fitness': 115896,\n",
       "   'generation': 37,\n",
       "   'origin': 'ORDER_CROSSOVER'},\n",
       "  {'elapsedSeconds': 0.975139993,\n",
       "   'fitness': 115863,\n",
       "   'generation': 41,\n",
       "   'origin': 'ORDER_CROSSOVER'},\n",
       "  {'elapsedSeconds': 1.00333084,\n",
       "   'fitness': 115819,\n",
       "   'generation': 42,\n",
       "   'origin': 'ORDER_CROSSOVER'},\n",
       "  {'elapsedSeconds': 1.027772762,\n",
       "   'fitness': 115312,\n",
       "   'generation': 43,\n",
       "   'origin': 'ORDER_CROSSOVER'},\n",
       "  {'elapsedSeconds': 1.054922624,\n",
       "   'fitness': 115197,\n",
       "   'generation': 44,\n",
       "   'origin': 'CYCLIC_CROSSOVER'},\n",
       "  {'elapsedSeconds': 1.081872818,\n",
       "   'fitness': 115052,\n",
       "   'generation': 45,\n",
       "   'origin': 'ORDER_CROSSOVER'},\n",
       "  {'elapsedSeconds': 1.134835266,\n",
       "   'fitness': 114798,\n",
       "   'generation': 47,\n",
       "   'origin': 'CYCLIC_CROSSOVER'},\n",
       "  {'elapsedSeconds': 1.277802727,\n",
       "   'fitness': 114672,\n",
       "   'generation': 53,\n",
       "   'origin': 'CYCLIC_CROSSOVER'},\n",
       "  {'elapsedSeconds': 1.330593468,\n",
       "   'fitness': 114615,\n",
       "   'generation': 55,\n",
       "   'origin': 'CYCLIC_CROSSOVER'},\n",
       "  {'elapsedSeconds': 1.351290844,\n",
       "   'fitness': 114514,\n",
       "   'generation': 56,\n",
       "   'origin': 'CYCLIC_CROSSOVER'},\n",
       "  {'elapsedSeconds': 1.375074515,\n",
       "   'fitness': 114495,\n",
       "   'generation': 57,\n",
       "   'origin': 'ORDER_CROSSOVER'},\n",
       "  {'elapsedSeconds': 1.402539706,\n",
       "   'fitness': 114407,\n",
       "   'generation': 58,\n",
       "   'origin': 'ORDER_CROSSOVER'},\n",
       "  {'elapsedSeconds': 1.452155956,\n",
       "   'fitness': 114324,\n",
       "   'generation': 60,\n",
       "   'origin': 'CYCLIC_CROSSOVER'},\n",
       "  {'elapsedSeconds': 1.478131314,\n",
       "   'fitness': 114286,\n",
       "   'generation': 61,\n",
       "   'origin': 'CYCLIC_CROSSOVER'},\n",
       "  {'elapsedSeconds': 1.518726592,\n",
       "   'fitness': 114218,\n",
       "   'generation': 63,\n",
       "   'origin': 'CYCLIC_CROSSOVER'},\n",
       "  {'elapsedSeconds': 1.541466932,\n",
       "   'fitness': 114159,\n",
       "   'generation': 64,\n",
       "   'origin': 'CYCLIC_CROSSOVER'},\n",
       "  {'elapsedSeconds': 1.565226755,\n",
       "   'fitness': 114140,\n",
       "   'generation': 65,\n",
       "   'origin': 'ORDER_CROSSOVER'},\n",
       "  {'elapsedSeconds': 1.606687919,\n",
       "   'fitness': 114075,\n",
       "   'generation': 67,\n",
       "   'origin': 'CYCLIC_CROSSOVER'},\n",
       "  {'elapsedSeconds': 1.631760091,\n",
       "   'fitness': 114034,\n",
       "   'generation': 68,\n",
       "   'origin': 'CYCLIC_CROSSOVER'},\n",
       "  {'elapsedSeconds': 1.648460943,\n",
       "   'fitness': 113970,\n",
       "   'generation': 69,\n",
       "   'origin': 'ORDER_CROSSOVER'},\n",
       "  {'elapsedSeconds': 1.669787617,\n",
       "   'fitness': 113880,\n",
       "   'generation': 70,\n",
       "   'origin': 'CYCLIC_CROSSOVER'},\n",
       "  {'elapsedSeconds': 1.69780452,\n",
       "   'fitness': 113839,\n",
       "   'generation': 71,\n",
       "   'origin': 'ORDER_CROSSOVER'},\n",
       "  {'elapsedSeconds': 1.7283745,\n",
       "   'fitness': 113723,\n",
       "   'generation': 72,\n",
       "   'origin': 'CYCLIC_CROSSOVER'},\n",
       "  {'elapsedSeconds': 1.808306174,\n",
       "   'fitness': 113709,\n",
       "   'generation': 75,\n",
       "   'origin': 'CYCLIC_CROSSOVER'},\n",
       "  {'elapsedSeconds': 1.837083491,\n",
       "   'fitness': 113563,\n",
       "   'generation': 76,\n",
       "   'origin': 'CYCLIC_CROSSOVER'},\n",
       "  {'elapsedSeconds': 1.894089674,\n",
       "   'fitness': 113557,\n",
       "   'generation': 78,\n",
       "   'origin': 'ORDER_CROSSOVER'},\n",
       "  {'elapsedSeconds': 1.920648714,\n",
       "   'fitness': 113392,\n",
       "   'generation': 79,\n",
       "   'origin': 'ORDER_CROSSOVER'},\n",
       "  {'elapsedSeconds': 1.967010932,\n",
       "   'fitness': 113381,\n",
       "   'generation': 81,\n",
       "   'origin': 'CYCLIC_CROSSOVER'},\n",
       "  {'elapsedSeconds': 1.99565972,\n",
       "   'fitness': 113340,\n",
       "   'generation': 82,\n",
       "   'origin': 'ORDER_CROSSOVER'},\n",
       "  {'elapsedSeconds': 2.025345487,\n",
       "   'fitness': 113338,\n",
       "   'generation': 83,\n",
       "   'origin': 'CYCLIC_CROSSOVER'},\n",
       "  {'elapsedSeconds': 2.080764534,\n",
       "   'fitness': 113312,\n",
       "   'generation': 85,\n",
       "   'origin': 'CYCLIC_CROSSOVER'},\n",
       "  {'elapsedSeconds': 2.112801654,\n",
       "   'fitness': 113198,\n",
       "   'generation': 86,\n",
       "   'origin': 'ORDER_CROSSOVER'},\n",
       "  {'elapsedSeconds': 2.223903381,\n",
       "   'fitness': 113185,\n",
       "   'generation': 90,\n",
       "   'origin': 'CYCLIC_CROSSOVER'},\n",
       "  {'elapsedSeconds': 2.253811424,\n",
       "   'fitness': 113111,\n",
       "   'generation': 91,\n",
       "   'origin': 'CYCLIC_CROSSOVER'},\n",
       "  {'elapsedSeconds': 2.278722257,\n",
       "   'fitness': 112944,\n",
       "   'generation': 92,\n",
       "   'origin': 'CYCLIC_CROSSOVER'},\n",
       "  {'elapsedSeconds': 2.449835065,\n",
       "   'fitness': 112841,\n",
       "   'generation': 99,\n",
       "   'origin': 'CYCLIC_CROSSOVER'},\n",
       "  {'elapsedSeconds': 2.517188669,\n",
       "   'fitness': 112822,\n",
       "   'generation': 102,\n",
       "   'origin': 'ORDER_CROSSOVER'},\n",
       "  {'elapsedSeconds': 2.54855332,\n",
       "   'fitness': 112808,\n",
       "   'generation': 103,\n",
       "   'origin': 'ORDER_CROSSOVER'},\n",
       "  {'elapsedSeconds': 2.566652985,\n",
       "   'fitness': 112789,\n",
       "   'generation': 104,\n",
       "   'origin': 'ORDER_CROSSOVER'},\n",
       "  {'elapsedSeconds': 2.5907342,\n",
       "   'fitness': 112680,\n",
       "   'generation': 105,\n",
       "   'origin': 'CYCLIC_CROSSOVER'},\n",
       "  {'elapsedSeconds': 2.679921384,\n",
       "   'fitness': 112586,\n",
       "   'generation': 109,\n",
       "   'origin': 'CYCLIC_CROSSOVER'},\n",
       "  {'elapsedSeconds': 2.723778736,\n",
       "   'fitness': 112575,\n",
       "   'generation': 111,\n",
       "   'origin': 'CYCLIC_CROSSOVER'},\n",
       "  {'elapsedSeconds': 2.77975064,\n",
       "   'fitness': 112473,\n",
       "   'generation': 113,\n",
       "   'origin': 'CYCLIC_CROSSOVER'},\n",
       "  {'elapsedSeconds': 2.824858823,\n",
       "   'fitness': 112469,\n",
       "   'generation': 115,\n",
       "   'origin': 'MUTATION'},\n",
       "  {'elapsedSeconds': 2.972383759,\n",
       "   'fitness': 112449,\n",
       "   'generation': 121,\n",
       "   'origin': 'ORDER_CROSSOVER'},\n",
       "  {'elapsedSeconds': 2.993692832,\n",
       "   'fitness': 112390,\n",
       "   'generation': 122,\n",
       "   'origin': 'CYCLIC_CROSSOVER'},\n",
       "  {'elapsedSeconds': 3.024760227,\n",
       "   'fitness': 112346,\n",
       "   'generation': 123,\n",
       "   'origin': 'CYCLIC_CROSSOVER'},\n",
       "  {'elapsedSeconds': 3.092757131,\n",
       "   'fitness': 112302,\n",
       "   'generation': 126,\n",
       "   'origin': 'CYCLIC_CROSSOVER'},\n",
       "  {'elapsedSeconds': 3.170988272,\n",
       "   'fitness': 112294,\n",
       "   'generation': 129,\n",
       "   'origin': 'CYCLIC_CROSSOVER'},\n",
       "  {'elapsedSeconds': 3.19195772,\n",
       "   'fitness': 112276,\n",
       "   'generation': 130,\n",
       "   'origin': 'MUTATION'},\n",
       "  {'elapsedSeconds': 3.221356049,\n",
       "   'fitness': 112241,\n",
       "   'generation': 131,\n",
       "   'origin': 'ORDER_CROSSOVER'},\n",
       "  {'elapsedSeconds': 3.250001388,\n",
       "   'fitness': 112227,\n",
       "   'generation': 132,\n",
       "   'origin': 'ORDER_CROSSOVER'},\n",
       "  {'elapsedSeconds': 3.354829185,\n",
       "   'fitness': 112222,\n",
       "   'generation': 136,\n",
       "   'origin': 'CYCLIC_CROSSOVER'},\n",
       "  {'elapsedSeconds': 3.390635204,\n",
       "   'fitness': 112189,\n",
       "   'generation': 138,\n",
       "   'origin': 'CYCLIC_CROSSOVER'},\n",
       "  {'elapsedSeconds': 3.443831029,\n",
       "   'fitness': 112174,\n",
       "   'generation': 140,\n",
       "   'origin': 'ORDER_CROSSOVER'},\n",
       "  {'elapsedSeconds': 3.500545387,\n",
       "   'fitness': 112156,\n",
       "   'generation': 142,\n",
       "   'origin': 'ORDER_CROSSOVER'},\n",
       "  {'elapsedSeconds': 3.556530675,\n",
       "   'fitness': 112097,\n",
       "   'generation': 144,\n",
       "   'origin': 'CYCLIC_CROSSOVER'},\n",
       "  {'elapsedSeconds': 3.722499924,\n",
       "   'fitness': 112083,\n",
       "   'generation': 150,\n",
       "   'origin': 'CYCLIC_CROSSOVER'},\n",
       "  {'elapsedSeconds': 3.781702529,\n",
       "   'fitness': 112060,\n",
       "   'generation': 152,\n",
       "   'origin': 'ORDER_CROSSOVER'},\n",
       "  {'elapsedSeconds': 3.877016915,\n",
       "   'fitness': 112052,\n",
       "   'generation': 156,\n",
       "   'origin': 'CYCLIC_CROSSOVER'},\n",
       "  {'elapsedSeconds': 3.952728453,\n",
       "   'fitness': 112036,\n",
       "   'generation': 159,\n",
       "   'origin': 'CYCLIC_CROSSOVER'},\n",
       "  {'elapsedSeconds': 3.96787907,\n",
       "   'fitness': 112031,\n",
       "   'generation': 160,\n",
       "   'origin': 'CYCLIC_CROSSOVER'},\n",
       "  {'elapsedSeconds': 3.990552051,\n",
       "   'fitness': 112030,\n",
       "   'generation': 161,\n",
       "   'origin': 'ORDER_CROSSOVER'},\n",
       "  {'elapsedSeconds': 4.009487404,\n",
       "   'fitness': 112000,\n",
       "   'generation': 162,\n",
       "   'origin': 'ORDER_CROSSOVER'},\n",
       "  {'elapsedSeconds': 4.068798074,\n",
       "   'fitness': 111990,\n",
       "   'generation': 165,\n",
       "   'origin': 'ORDER_CROSSOVER'},\n",
       "  {'elapsedSeconds': 4.097807047,\n",
       "   'fitness': 111984,\n",
       "   'generation': 166,\n",
       "   'origin': 'ORDER_CROSSOVER'},\n",
       "  {'elapsedSeconds': 4.144617924,\n",
       "   'fitness': 111982,\n",
       "   'generation': 168,\n",
       "   'origin': 'CYCLIC_CROSSOVER'},\n",
       "  {'elapsedSeconds': 4.163569351,\n",
       "   'fitness': 111960,\n",
       "   'generation': 169,\n",
       "   'origin': 'CYCLIC_CROSSOVER'},\n",
       "  {'elapsedSeconds': 4.247891838,\n",
       "   'fitness': 111954,\n",
       "   'generation': 173,\n",
       "   'origin': 'ORDER_CROSSOVER'},\n",
       "  {'elapsedSeconds': 4.277673952,\n",
       "   'fitness': 111936,\n",
       "   'generation': 174,\n",
       "   'origin': 'ORDER_CROSSOVER'},\n",
       "  {'elapsedSeconds': 4.407293058,\n",
       "   'fitness': 111924,\n",
       "   'generation': 179,\n",
       "   'origin': 'ORDER_CROSSOVER'},\n",
       "  {'elapsedSeconds': 4.431885892,\n",
       "   'fitness': 111908,\n",
       "   'generation': 180,\n",
       "   'origin': 'ORDER_CROSSOVER'},\n",
       "  {'elapsedSeconds': 4.51471618,\n",
       "   'fitness': 111907,\n",
       "   'generation': 183,\n",
       "   'origin': 'ORDER_CROSSOVER'},\n",
       "  {'elapsedSeconds': 4.541812445,\n",
       "   'fitness': 111896,\n",
       "   'generation': 184,\n",
       "   'origin': 'CYCLIC_CROSSOVER'},\n",
       "  {'elapsedSeconds': 4.670308003,\n",
       "   'fitness': 111894,\n",
       "   'generation': 189,\n",
       "   'origin': 'ORDER_CROSSOVER'},\n",
       "  {'elapsedSeconds': 4.722506606,\n",
       "   'fitness': 111893,\n",
       "   'generation': 191,\n",
       "   'origin': 'CYCLIC_CROSSOVER'},\n",
       "  {'elapsedSeconds': 4.74701957,\n",
       "   'fitness': 111885,\n",
       "   'generation': 192,\n",
       "   'origin': 'ORDER_CROSSOVER'},\n",
       "  {'elapsedSeconds': 4.773834612,\n",
       "   'fitness': 111879,\n",
       "   'generation': 193,\n",
       "   'origin': 'ORDER_CROSSOVER'},\n",
       "  {'elapsedSeconds': 4.797748392,\n",
       "   'fitness': 111876,\n",
       "   'generation': 194,\n",
       "   'origin': 'ORDER_CROSSOVER'},\n",
       "  {'elapsedSeconds': 4.81944148,\n",
       "   'fitness': 111863,\n",
       "   'generation': 195,\n",
       "   'origin': 'CYCLIC_CROSSOVER'},\n",
       "  {'elapsedSeconds': 4.908636029,\n",
       "   'fitness': 111859,\n",
       "   'generation': 199,\n",
       "   'origin': 'ORDER_CROSSOVER'},\n",
       "  {'elapsedSeconds': 4.937468065,\n",
       "   'fitness': 111858,\n",
       "   'generation': 200,\n",
       "   'origin': 'MUTATION'},\n",
       "  {'elapsedSeconds': 4.978791336,\n",
       "   'fitness': 111846,\n",
       "   'generation': 202,\n",
       "   'origin': 'ORDER_CROSSOVER'},\n",
       "  {'elapsedSeconds': 5.044060147,\n",
       "   'fitness': 111841,\n",
       "   'generation': 205,\n",
       "   'origin': 'ORDER_CROSSOVER'},\n",
       "  {'elapsedSeconds': 5.123647522,\n",
       "   'fitness': 111837,\n",
       "   'generation': 208,\n",
       "   'origin': 'ORDER_CROSSOVER'},\n",
       "  {'elapsedSeconds': 5.148562159,\n",
       "   'fitness': 111829,\n",
       "   'generation': 209,\n",
       "   'origin': 'CYCLIC_CROSSOVER'},\n",
       "  {'elapsedSeconds': 5.174257352,\n",
       "   'fitness': 111824,\n",
       "   'generation': 210,\n",
       "   'origin': 'ORDER_CROSSOVER'},\n",
       "  {'elapsedSeconds': 5.193178729,\n",
       "   'fitness': 111822,\n",
       "   'generation': 211,\n",
       "   'origin': 'CYCLIC_CROSSOVER'},\n",
       "  {'elapsedSeconds': 5.247980532,\n",
       "   'fitness': 111821,\n",
       "   'generation': 213,\n",
       "   'origin': 'CYCLIC_CROSSOVER'},\n",
       "  {'elapsedSeconds': 5.275081388,\n",
       "   'fitness': 111820,\n",
       "   'generation': 214,\n",
       "   'origin': 'CYCLIC_CROSSOVER'},\n",
       "  {'elapsedSeconds': 5.299837677,\n",
       "   'fitness': 111803,\n",
       "   'generation': 215,\n",
       "   'origin': 'ORDER_CROSSOVER'},\n",
       "  {'elapsedSeconds': 5.510432953,\n",
       "   'fitness': 111791,\n",
       "   'generation': 223,\n",
       "   'origin': 'CYCLIC_CROSSOVER'},\n",
       "  {'elapsedSeconds': 5.639746488,\n",
       "   'fitness': 111790,\n",
       "   'generation': 228,\n",
       "   'origin': 'ORDER_CROSSOVER'},\n",
       "  {'elapsedSeconds': 5.685948357,\n",
       "   'fitness': 111783,\n",
       "   'generation': 230,\n",
       "   'origin': 'ORDER_CROSSOVER'},\n",
       "  {'elapsedSeconds': 5.706983229,\n",
       "   'fitness': 111772,\n",
       "   'generation': 231,\n",
       "   'origin': 'ORDER_CROSSOVER'},\n",
       "  {'elapsedSeconds': 5.732623195,\n",
       "   'fitness': 111771,\n",
       "   'generation': 232,\n",
       "   'origin': 'ORDER_CROSSOVER'},\n",
       "  {'elapsedSeconds': 5.749294869,\n",
       "   'fitness': 111770,\n",
       "   'generation': 233,\n",
       "   'origin': 'ORDER_CROSSOVER'},\n",
       "  {'elapsedSeconds': 5.77436668,\n",
       "   'fitness': 111765,\n",
       "   'generation': 234,\n",
       "   'origin': 'CYCLIC_CROSSOVER'},\n",
       "  {'elapsedSeconds': 5.813485512,\n",
       "   'fitness': 111760,\n",
       "   'generation': 236,\n",
       "   'origin': 'CYCLIC_CROSSOVER'},\n",
       "  {'elapsedSeconds': 5.862412368,\n",
       "   'fitness': 111756,\n",
       "   'generation': 238,\n",
       "   'origin': 'CYCLIC_CROSSOVER'},\n",
       "  {'elapsedSeconds': 5.933900268,\n",
       "   'fitness': 111750,\n",
       "   'generation': 241,\n",
       "   'origin': 'ORDER_CROSSOVER'},\n",
       "  {'elapsedSeconds': 6.047137196,\n",
       "   'fitness': 111748,\n",
       "   'generation': 246,\n",
       "   'origin': 'CYCLIC_CROSSOVER'},\n",
       "  {'elapsedSeconds': 6.074220287,\n",
       "   'fitness': 111745,\n",
       "   'generation': 247,\n",
       "   'origin': 'ORDER_CROSSOVER'},\n",
       "  {'elapsedSeconds': 6.095692278,\n",
       "   'fitness': 111743,\n",
       "   'generation': 248,\n",
       "   'origin': 'CYCLIC_CROSSOVER'},\n",
       "  {'elapsedSeconds': 6.156936834,\n",
       "   'fitness': 111742,\n",
       "   'generation': 251,\n",
       "   'origin': 'CYCLIC_CROSSOVER'},\n",
       "  {'elapsedSeconds': 6.176092228,\n",
       "   'fitness': 111740,\n",
       "   'generation': 252,\n",
       "   'origin': 'CYCLIC_CROSSOVER'},\n",
       "  {'elapsedSeconds': 6.230076471,\n",
       "   'fitness': 111739,\n",
       "   'generation': 254,\n",
       "   'origin': 'CYCLIC_CROSSOVER'},\n",
       "  {'elapsedSeconds': 6.328038411,\n",
       "   'fitness': 111738,\n",
       "   'generation': 258,\n",
       "   'origin': 'CYCLIC_CROSSOVER'},\n",
       "  {'elapsedSeconds': 6.382529768,\n",
       "   'fitness': 111736,\n",
       "   'generation': 260,\n",
       "   'origin': 'ORDER_CROSSOVER'},\n",
       "  {'elapsedSeconds': 6.407996508,\n",
       "   'fitness': 111730,\n",
       "   'generation': 261,\n",
       "   'origin': 'CYCLIC_CROSSOVER'},\n",
       "  {'elapsedSeconds': 6.511505589,\n",
       "   'fitness': 111729,\n",
       "   'generation': 265,\n",
       "   'origin': 'ORDER_CROSSOVER'},\n",
       "  {'elapsedSeconds': 6.536054466,\n",
       "   'fitness': 111727,\n",
       "   'generation': 266,\n",
       "   'origin': 'CYCLIC_CROSSOVER'},\n",
       "  {'elapsedSeconds': 6.564231537,\n",
       "   'fitness': 111724,\n",
       "   'generation': 267,\n",
       "   'origin': 'CYCLIC_CROSSOVER'},\n",
       "  {'elapsedSeconds': 6.593369243,\n",
       "   'fitness': 111720,\n",
       "   'generation': 268,\n",
       "   'origin': 'CYCLIC_CROSSOVER'},\n",
       "  {'elapsedSeconds': 6.883901529,\n",
       "   'fitness': 111718,\n",
       "   'generation': 278,\n",
       "   'origin': 'ORDER_CROSSOVER'},\n",
       "  {'elapsedSeconds': 7.11924661,\n",
       "   'fitness': 111716,\n",
       "   'generation': 286,\n",
       "   'origin': 'CYCLIC_CROSSOVER'},\n",
       "  {'elapsedSeconds': 7.145608834,\n",
       "   'fitness': 111714,\n",
       "   'generation': 287,\n",
       "   'origin': 'ORDER_CROSSOVER'},\n",
       "  {'elapsedSeconds': 7.308474508,\n",
       "   'fitness': 111712,\n",
       "   'generation': 293,\n",
       "   'origin': 'ORDER_CROSSOVER'},\n",
       "  {'elapsedSeconds': 7.36382891,\n",
       "   'fitness': 111711,\n",
       "   'generation': 295,\n",
       "   'origin': 'CYCLIC_CROSSOVER'},\n",
       "  {'elapsedSeconds': 7.408757992,\n",
       "   'fitness': 111708,\n",
       "   'generation': 297,\n",
       "   'origin': 'ORDER_CROSSOVER'},\n",
       "  {'elapsedSeconds': 7.512675145,\n",
       "   'fitness': 111707,\n",
       "   'generation': 301,\n",
       "   'origin': 'CYCLIC_CROSSOVER'},\n",
       "  {'elapsedSeconds': 7.684585707,\n",
       "   'fitness': 111706,\n",
       "   'generation': 307,\n",
       "   'origin': 'ORDER_CROSSOVER'},\n",
       "  {'elapsedSeconds': 7.714220994,\n",
       "   'fitness': 111704,\n",
       "   'generation': 308,\n",
       "   'origin': 'ORDER_CROSSOVER'},\n",
       "  {'elapsedSeconds': 7.77416665,\n",
       "   'fitness': 111697,\n",
       "   'generation': 310,\n",
       "   'origin': 'CYCLIC_CROSSOVER'},\n",
       "  {'elapsedSeconds': 7.95047404,\n",
       "   'fitness': 111694,\n",
       "   'generation': 316,\n",
       "   'origin': 'CYCLIC_CROSSOVER'},\n",
       "  {'elapsedSeconds': 8.15985422,\n",
       "   'fitness': 111692,\n",
       "   'generation': 324,\n",
       "   'origin': 'CYCLIC_CROSSOVER'},\n",
       "  {'elapsedSeconds': 8.416644422,\n",
       "   'fitness': 111690,\n",
       "   'generation': 334,\n",
       "   'origin': 'MUTATION'},\n",
       "  {'elapsedSeconds': 9.561049959,\n",
       "   'fitness': 111689,\n",
       "   'generation': 381,\n",
       "   'origin': 'ORDER_CROSSOVER'}],\n",
       " 'instance': {'WSACost': 111206,\n",
       "  'emptySpaces': 40,\n",
       "  'filePath': '/mnt/c/Users/pedro/OneDrive/Área de Trabalho/circular-permutation-ga/input/tip/instances/y/y-60_t.txt',\n",
       "  'slots': 100,\n",
       "  'tools': 60},\n",
       " 'parameters': {'maxGens': 2000,\n",
       "  'maxGensWithoutImprovement': 1000,\n",
       "  'maxTime': 10,\n",
       "  'mutationType': 1,\n",
       "  'n': 60,\n",
       "  'p': 2000,\n",
       "  'pe': 0.1,\n",
       "  'pm': 0.2,\n",
       "  'rhoe': 0.6,\n",
       "  'seed': 746331,\n",
       "  'threads': 4,\n",
       "  'wheelBias': 10.0},\n",
       " 'top_individuals': [{'fitness': 111689,\n",
       "   'origin': 'ORDER_CROSSOVER',\n",
       "   'permutation': [0,\n",
       "    44,\n",
       "    14,\n",
       "    42,\n",
       "    13,\n",
       "    35,\n",
       "    1,\n",
       "    6,\n",
       "    27,\n",
       "    36,\n",
       "    41,\n",
       "    59,\n",
       "    54,\n",
       "    45,\n",
       "    8,\n",
       "    56,\n",
       "    20,\n",
       "    31,\n",
       "    21,\n",
       "    3,\n",
       "    10,\n",
       "    4,\n",
       "    7,\n",
       "    40,\n",
       "    43,\n",
       "    9,\n",
       "    16,\n",
       "    29,\n",
       "    30,\n",
       "    11,\n",
       "    51,\n",
       "    18,\n",
       "    22,\n",
       "    19,\n",
       "    46,\n",
       "    47,\n",
       "    26,\n",
       "    5,\n",
       "    17,\n",
       "    12,\n",
       "    23,\n",
       "    57,\n",
       "    28,\n",
       "    34,\n",
       "    15,\n",
       "    58,\n",
       "    25,\n",
       "    50,\n",
       "    32,\n",
       "    33,\n",
       "    53,\n",
       "    39,\n",
       "    2,\n",
       "    37,\n",
       "    38,\n",
       "    48,\n",
       "    55,\n",
       "    49,\n",
       "    52,\n",
       "    24]},\n",
       "  {'fitness': 111689,\n",
       "   'origin': 'CYCLIC_CROSSOVER',\n",
       "   'permutation': [0,\n",
       "    44,\n",
       "    14,\n",
       "    42,\n",
       "    13,\n",
       "    35,\n",
       "    1,\n",
       "    6,\n",
       "    27,\n",
       "    36,\n",
       "    41,\n",
       "    59,\n",
       "    54,\n",
       "    45,\n",
       "    8,\n",
       "    56,\n",
       "    20,\n",
       "    31,\n",
       "    21,\n",
       "    3,\n",
       "    10,\n",
       "    4,\n",
       "    7,\n",
       "    40,\n",
       "    43,\n",
       "    9,\n",
       "    16,\n",
       "    29,\n",
       "    30,\n",
       "    11,\n",
       "    51,\n",
       "    18,\n",
       "    22,\n",
       "    19,\n",
       "    46,\n",
       "    47,\n",
       "    26,\n",
       "    5,\n",
       "    17,\n",
       "    12,\n",
       "    23,\n",
       "    57,\n",
       "    28,\n",
       "    34,\n",
       "    15,\n",
       "    58,\n",
       "    25,\n",
       "    50,\n",
       "    32,\n",
       "    33,\n",
       "    53,\n",
       "    39,\n",
       "    2,\n",
       "    37,\n",
       "    38,\n",
       "    48,\n",
       "    55,\n",
       "    49,\n",
       "    52,\n",
       "    24]},\n",
       "  {'fitness': 111689,\n",
       "   'origin': 'CYCLIC_CROSSOVER',\n",
       "   'permutation': [0,\n",
       "    44,\n",
       "    14,\n",
       "    42,\n",
       "    13,\n",
       "    35,\n",
       "    1,\n",
       "    6,\n",
       "    27,\n",
       "    36,\n",
       "    41,\n",
       "    59,\n",
       "    54,\n",
       "    45,\n",
       "    8,\n",
       "    56,\n",
       "    20,\n",
       "    31,\n",
       "    21,\n",
       "    3,\n",
       "    10,\n",
       "    4,\n",
       "    7,\n",
       "    40,\n",
       "    43,\n",
       "    9,\n",
       "    16,\n",
       "    29,\n",
       "    30,\n",
       "    11,\n",
       "    51,\n",
       "    18,\n",
       "    22,\n",
       "    19,\n",
       "    46,\n",
       "    47,\n",
       "    26,\n",
       "    5,\n",
       "    17,\n",
       "    12,\n",
       "    23,\n",
       "    57,\n",
       "    28,\n",
       "    34,\n",
       "    15,\n",
       "    58,\n",
       "    25,\n",
       "    50,\n",
       "    32,\n",
       "    33,\n",
       "    53,\n",
       "    39,\n",
       "    2,\n",
       "    37,\n",
       "    38,\n",
       "    48,\n",
       "    55,\n",
       "    49,\n",
       "    52,\n",
       "    24]},\n",
       "  {'fitness': 111689,\n",
       "   'origin': 'CYCLIC_CROSSOVER',\n",
       "   'permutation': [0,\n",
       "    44,\n",
       "    14,\n",
       "    42,\n",
       "    13,\n",
       "    35,\n",
       "    1,\n",
       "    6,\n",
       "    27,\n",
       "    36,\n",
       "    41,\n",
       "    59,\n",
       "    54,\n",
       "    45,\n",
       "    8,\n",
       "    56,\n",
       "    20,\n",
       "    31,\n",
       "    21,\n",
       "    3,\n",
       "    10,\n",
       "    4,\n",
       "    7,\n",
       "    40,\n",
       "    43,\n",
       "    9,\n",
       "    16,\n",
       "    29,\n",
       "    30,\n",
       "    11,\n",
       "    51,\n",
       "    18,\n",
       "    22,\n",
       "    19,\n",
       "    46,\n",
       "    47,\n",
       "    26,\n",
       "    5,\n",
       "    17,\n",
       "    12,\n",
       "    23,\n",
       "    57,\n",
       "    28,\n",
       "    34,\n",
       "    15,\n",
       "    58,\n",
       "    25,\n",
       "    50,\n",
       "    32,\n",
       "    33,\n",
       "    53,\n",
       "    39,\n",
       "    2,\n",
       "    37,\n",
       "    38,\n",
       "    48,\n",
       "    55,\n",
       "    49,\n",
       "    52,\n",
       "    24]},\n",
       "  {'fitness': 111689,\n",
       "   'origin': 'ORDER_CROSSOVER',\n",
       "   'permutation': [0,\n",
       "    44,\n",
       "    14,\n",
       "    42,\n",
       "    13,\n",
       "    35,\n",
       "    1,\n",
       "    6,\n",
       "    27,\n",
       "    36,\n",
       "    41,\n",
       "    59,\n",
       "    54,\n",
       "    45,\n",
       "    8,\n",
       "    56,\n",
       "    20,\n",
       "    31,\n",
       "    21,\n",
       "    3,\n",
       "    10,\n",
       "    4,\n",
       "    7,\n",
       "    40,\n",
       "    43,\n",
       "    9,\n",
       "    16,\n",
       "    29,\n",
       "    30,\n",
       "    11,\n",
       "    51,\n",
       "    18,\n",
       "    22,\n",
       "    19,\n",
       "    46,\n",
       "    47,\n",
       "    26,\n",
       "    5,\n",
       "    17,\n",
       "    12,\n",
       "    23,\n",
       "    57,\n",
       "    28,\n",
       "    34,\n",
       "    15,\n",
       "    58,\n",
       "    25,\n",
       "    50,\n",
       "    32,\n",
       "    33,\n",
       "    53,\n",
       "    39,\n",
       "    2,\n",
       "    37,\n",
       "    38,\n",
       "    48,\n",
       "    55,\n",
       "    49,\n",
       "    52,\n",
       "    24]},\n",
       "  {'fitness': 111689,\n",
       "   'origin': 'CYCLIC_CROSSOVER',\n",
       "   'permutation': [0,\n",
       "    44,\n",
       "    14,\n",
       "    42,\n",
       "    13,\n",
       "    35,\n",
       "    1,\n",
       "    6,\n",
       "    27,\n",
       "    36,\n",
       "    41,\n",
       "    59,\n",
       "    54,\n",
       "    45,\n",
       "    8,\n",
       "    56,\n",
       "    20,\n",
       "    31,\n",
       "    21,\n",
       "    3,\n",
       "    10,\n",
       "    4,\n",
       "    7,\n",
       "    40,\n",
       "    43,\n",
       "    9,\n",
       "    16,\n",
       "    29,\n",
       "    30,\n",
       "    11,\n",
       "    51,\n",
       "    18,\n",
       "    22,\n",
       "    19,\n",
       "    46,\n",
       "    47,\n",
       "    26,\n",
       "    5,\n",
       "    17,\n",
       "    12,\n",
       "    23,\n",
       "    57,\n",
       "    28,\n",
       "    34,\n",
       "    15,\n",
       "    58,\n",
       "    25,\n",
       "    50,\n",
       "    32,\n",
       "    33,\n",
       "    53,\n",
       "    39,\n",
       "    2,\n",
       "    37,\n",
       "    38,\n",
       "    48,\n",
       "    55,\n",
       "    49,\n",
       "    52,\n",
       "    24]},\n",
       "  {'fitness': 111689,\n",
       "   'origin': 'CYCLIC_CROSSOVER',\n",
       "   'permutation': [0,\n",
       "    44,\n",
       "    14,\n",
       "    42,\n",
       "    13,\n",
       "    35,\n",
       "    1,\n",
       "    6,\n",
       "    27,\n",
       "    36,\n",
       "    41,\n",
       "    59,\n",
       "    54,\n",
       "    45,\n",
       "    8,\n",
       "    56,\n",
       "    20,\n",
       "    31,\n",
       "    21,\n",
       "    3,\n",
       "    10,\n",
       "    4,\n",
       "    7,\n",
       "    40,\n",
       "    43,\n",
       "    9,\n",
       "    16,\n",
       "    29,\n",
       "    30,\n",
       "    11,\n",
       "    51,\n",
       "    18,\n",
       "    22,\n",
       "    19,\n",
       "    46,\n",
       "    47,\n",
       "    26,\n",
       "    5,\n",
       "    17,\n",
       "    12,\n",
       "    23,\n",
       "    57,\n",
       "    28,\n",
       "    34,\n",
       "    15,\n",
       "    58,\n",
       "    25,\n",
       "    50,\n",
       "    32,\n",
       "    33,\n",
       "    53,\n",
       "    39,\n",
       "    2,\n",
       "    37,\n",
       "    38,\n",
       "    48,\n",
       "    55,\n",
       "    49,\n",
       "    52,\n",
       "    24]},\n",
       "  {'fitness': 111689,\n",
       "   'origin': 'CYCLIC_CROSSOVER',\n",
       "   'permutation': [0,\n",
       "    44,\n",
       "    14,\n",
       "    42,\n",
       "    13,\n",
       "    35,\n",
       "    1,\n",
       "    6,\n",
       "    27,\n",
       "    36,\n",
       "    41,\n",
       "    59,\n",
       "    54,\n",
       "    45,\n",
       "    8,\n",
       "    56,\n",
       "    20,\n",
       "    31,\n",
       "    21,\n",
       "    3,\n",
       "    10,\n",
       "    4,\n",
       "    7,\n",
       "    40,\n",
       "    43,\n",
       "    9,\n",
       "    16,\n",
       "    29,\n",
       "    30,\n",
       "    11,\n",
       "    51,\n",
       "    18,\n",
       "    22,\n",
       "    19,\n",
       "    46,\n",
       "    47,\n",
       "    26,\n",
       "    5,\n",
       "    17,\n",
       "    12,\n",
       "    23,\n",
       "    57,\n",
       "    28,\n",
       "    34,\n",
       "    15,\n",
       "    58,\n",
       "    25,\n",
       "    50,\n",
       "    32,\n",
       "    33,\n",
       "    53,\n",
       "    39,\n",
       "    2,\n",
       "    37,\n",
       "    38,\n",
       "    48,\n",
       "    55,\n",
       "    49,\n",
       "    52,\n",
       "    24]},\n",
       "  {'fitness': 111689,\n",
       "   'origin': 'CYCLIC_CROSSOVER',\n",
       "   'permutation': [0,\n",
       "    44,\n",
       "    14,\n",
       "    42,\n",
       "    13,\n",
       "    35,\n",
       "    1,\n",
       "    6,\n",
       "    27,\n",
       "    36,\n",
       "    41,\n",
       "    59,\n",
       "    54,\n",
       "    45,\n",
       "    8,\n",
       "    56,\n",
       "    20,\n",
       "    31,\n",
       "    21,\n",
       "    3,\n",
       "    10,\n",
       "    4,\n",
       "    7,\n",
       "    40,\n",
       "    43,\n",
       "    9,\n",
       "    16,\n",
       "    29,\n",
       "    30,\n",
       "    11,\n",
       "    51,\n",
       "    18,\n",
       "    22,\n",
       "    19,\n",
       "    46,\n",
       "    47,\n",
       "    26,\n",
       "    5,\n",
       "    17,\n",
       "    12,\n",
       "    23,\n",
       "    57,\n",
       "    28,\n",
       "    34,\n",
       "    15,\n",
       "    58,\n",
       "    25,\n",
       "    50,\n",
       "    32,\n",
       "    33,\n",
       "    53,\n",
       "    39,\n",
       "    2,\n",
       "    37,\n",
       "    38,\n",
       "    48,\n",
       "    55,\n",
       "    49,\n",
       "    52,\n",
       "    24]},\n",
       "  {'fitness': 111689,\n",
       "   'origin': 'ORDER_CROSSOVER',\n",
       "   'permutation': [0,\n",
       "    44,\n",
       "    14,\n",
       "    42,\n",
       "    13,\n",
       "    35,\n",
       "    1,\n",
       "    6,\n",
       "    27,\n",
       "    36,\n",
       "    41,\n",
       "    59,\n",
       "    54,\n",
       "    45,\n",
       "    8,\n",
       "    56,\n",
       "    20,\n",
       "    31,\n",
       "    21,\n",
       "    3,\n",
       "    10,\n",
       "    4,\n",
       "    7,\n",
       "    40,\n",
       "    43,\n",
       "    9,\n",
       "    16,\n",
       "    29,\n",
       "    30,\n",
       "    11,\n",
       "    51,\n",
       "    18,\n",
       "    22,\n",
       "    19,\n",
       "    46,\n",
       "    47,\n",
       "    26,\n",
       "    5,\n",
       "    17,\n",
       "    12,\n",
       "    23,\n",
       "    57,\n",
       "    28,\n",
       "    34,\n",
       "    15,\n",
       "    58,\n",
       "    25,\n",
       "    50,\n",
       "    32,\n",
       "    33,\n",
       "    53,\n",
       "    39,\n",
       "    2,\n",
       "    37,\n",
       "    38,\n",
       "    48,\n",
       "    55,\n",
       "    49,\n",
       "    52,\n",
       "    24]},\n",
       "  {'fitness': 111689,\n",
       "   'origin': 'CYCLIC_CROSSOVER',\n",
       "   'permutation': [0,\n",
       "    44,\n",
       "    14,\n",
       "    42,\n",
       "    13,\n",
       "    35,\n",
       "    1,\n",
       "    6,\n",
       "    27,\n",
       "    36,\n",
       "    41,\n",
       "    59,\n",
       "    54,\n",
       "    45,\n",
       "    8,\n",
       "    56,\n",
       "    20,\n",
       "    31,\n",
       "    21,\n",
       "    3,\n",
       "    10,\n",
       "    4,\n",
       "    7,\n",
       "    40,\n",
       "    43,\n",
       "    9,\n",
       "    16,\n",
       "    29,\n",
       "    30,\n",
       "    11,\n",
       "    51,\n",
       "    18,\n",
       "    22,\n",
       "    19,\n",
       "    46,\n",
       "    47,\n",
       "    26,\n",
       "    5,\n",
       "    17,\n",
       "    12,\n",
       "    23,\n",
       "    57,\n",
       "    28,\n",
       "    34,\n",
       "    15,\n",
       "    58,\n",
       "    25,\n",
       "    50,\n",
       "    32,\n",
       "    33,\n",
       "    53,\n",
       "    39,\n",
       "    2,\n",
       "    37,\n",
       "    38,\n",
       "    48,\n",
       "    55,\n",
       "    49,\n",
       "    52,\n",
       "    24]},\n",
       "  {'fitness': 111689,\n",
       "   'origin': 'ORDER_CROSSOVER',\n",
       "   'permutation': [0,\n",
       "    44,\n",
       "    14,\n",
       "    42,\n",
       "    13,\n",
       "    35,\n",
       "    1,\n",
       "    6,\n",
       "    27,\n",
       "    36,\n",
       "    41,\n",
       "    59,\n",
       "    54,\n",
       "    45,\n",
       "    8,\n",
       "    56,\n",
       "    20,\n",
       "    31,\n",
       "    21,\n",
       "    3,\n",
       "    10,\n",
       "    4,\n",
       "    7,\n",
       "    40,\n",
       "    43,\n",
       "    9,\n",
       "    16,\n",
       "    29,\n",
       "    30,\n",
       "    11,\n",
       "    51,\n",
       "    18,\n",
       "    22,\n",
       "    19,\n",
       "    46,\n",
       "    47,\n",
       "    26,\n",
       "    5,\n",
       "    17,\n",
       "    12,\n",
       "    23,\n",
       "    57,\n",
       "    28,\n",
       "    34,\n",
       "    15,\n",
       "    58,\n",
       "    25,\n",
       "    50,\n",
       "    32,\n",
       "    33,\n",
       "    53,\n",
       "    39,\n",
       "    2,\n",
       "    37,\n",
       "    38,\n",
       "    48,\n",
       "    55,\n",
       "    49,\n",
       "    52,\n",
       "    24]},\n",
       "  {'fitness': 111689,\n",
       "   'origin': 'CYCLIC_CROSSOVER',\n",
       "   'permutation': [0,\n",
       "    44,\n",
       "    14,\n",
       "    42,\n",
       "    13,\n",
       "    35,\n",
       "    1,\n",
       "    6,\n",
       "    27,\n",
       "    36,\n",
       "    41,\n",
       "    59,\n",
       "    54,\n",
       "    45,\n",
       "    8,\n",
       "    56,\n",
       "    20,\n",
       "    31,\n",
       "    21,\n",
       "    3,\n",
       "    10,\n",
       "    4,\n",
       "    7,\n",
       "    40,\n",
       "    43,\n",
       "    9,\n",
       "    16,\n",
       "    29,\n",
       "    30,\n",
       "    11,\n",
       "    51,\n",
       "    18,\n",
       "    22,\n",
       "    19,\n",
       "    46,\n",
       "    47,\n",
       "    26,\n",
       "    5,\n",
       "    17,\n",
       "    12,\n",
       "    23,\n",
       "    57,\n",
       "    28,\n",
       "    34,\n",
       "    15,\n",
       "    58,\n",
       "    25,\n",
       "    50,\n",
       "    32,\n",
       "    33,\n",
       "    53,\n",
       "    39,\n",
       "    2,\n",
       "    37,\n",
       "    38,\n",
       "    48,\n",
       "    55,\n",
       "    49,\n",
       "    52,\n",
       "    24]},\n",
       "  {'fitness': 111689,\n",
       "   'origin': 'ORDER_CROSSOVER',\n",
       "   'permutation': [0,\n",
       "    44,\n",
       "    14,\n",
       "    42,\n",
       "    13,\n",
       "    35,\n",
       "    1,\n",
       "    6,\n",
       "    27,\n",
       "    36,\n",
       "    41,\n",
       "    59,\n",
       "    54,\n",
       "    45,\n",
       "    8,\n",
       "    56,\n",
       "    20,\n",
       "    31,\n",
       "    21,\n",
       "    3,\n",
       "    10,\n",
       "    4,\n",
       "    7,\n",
       "    40,\n",
       "    43,\n",
       "    9,\n",
       "    16,\n",
       "    29,\n",
       "    30,\n",
       "    11,\n",
       "    51,\n",
       "    18,\n",
       "    22,\n",
       "    19,\n",
       "    46,\n",
       "    47,\n",
       "    26,\n",
       "    5,\n",
       "    17,\n",
       "    12,\n",
       "    23,\n",
       "    57,\n",
       "    28,\n",
       "    34,\n",
       "    15,\n",
       "    58,\n",
       "    25,\n",
       "    50,\n",
       "    32,\n",
       "    33,\n",
       "    53,\n",
       "    39,\n",
       "    2,\n",
       "    37,\n",
       "    38,\n",
       "    48,\n",
       "    55,\n",
       "    49,\n",
       "    52,\n",
       "    24]},\n",
       "  {'fitness': 111689,\n",
       "   'origin': 'ORDER_CROSSOVER',\n",
       "   'permutation': [0,\n",
       "    44,\n",
       "    14,\n",
       "    42,\n",
       "    13,\n",
       "    35,\n",
       "    1,\n",
       "    6,\n",
       "    27,\n",
       "    36,\n",
       "    41,\n",
       "    59,\n",
       "    54,\n",
       "    45,\n",
       "    8,\n",
       "    56,\n",
       "    20,\n",
       "    31,\n",
       "    21,\n",
       "    3,\n",
       "    10,\n",
       "    4,\n",
       "    7,\n",
       "    40,\n",
       "    43,\n",
       "    9,\n",
       "    16,\n",
       "    29,\n",
       "    30,\n",
       "    11,\n",
       "    51,\n",
       "    18,\n",
       "    22,\n",
       "    19,\n",
       "    46,\n",
       "    47,\n",
       "    26,\n",
       "    5,\n",
       "    17,\n",
       "    12,\n",
       "    23,\n",
       "    57,\n",
       "    28,\n",
       "    34,\n",
       "    15,\n",
       "    58,\n",
       "    25,\n",
       "    50,\n",
       "    32,\n",
       "    33,\n",
       "    53,\n",
       "    39,\n",
       "    2,\n",
       "    37,\n",
       "    38,\n",
       "    48,\n",
       "    55,\n",
       "    49,\n",
       "    52,\n",
       "    24]},\n",
       "  {'fitness': 111689,\n",
       "   'origin': 'CYCLIC_CROSSOVER',\n",
       "   'permutation': [0,\n",
       "    44,\n",
       "    14,\n",
       "    42,\n",
       "    13,\n",
       "    35,\n",
       "    1,\n",
       "    6,\n",
       "    27,\n",
       "    36,\n",
       "    41,\n",
       "    59,\n",
       "    54,\n",
       "    45,\n",
       "    8,\n",
       "    56,\n",
       "    20,\n",
       "    31,\n",
       "    21,\n",
       "    3,\n",
       "    10,\n",
       "    4,\n",
       "    7,\n",
       "    40,\n",
       "    43,\n",
       "    9,\n",
       "    16,\n",
       "    29,\n",
       "    30,\n",
       "    11,\n",
       "    51,\n",
       "    18,\n",
       "    22,\n",
       "    19,\n",
       "    46,\n",
       "    47,\n",
       "    26,\n",
       "    5,\n",
       "    17,\n",
       "    12,\n",
       "    23,\n",
       "    57,\n",
       "    28,\n",
       "    34,\n",
       "    15,\n",
       "    58,\n",
       "    25,\n",
       "    50,\n",
       "    32,\n",
       "    33,\n",
       "    53,\n",
       "    39,\n",
       "    2,\n",
       "    37,\n",
       "    38,\n",
       "    48,\n",
       "    55,\n",
       "    49,\n",
       "    52,\n",
       "    24]},\n",
       "  {'fitness': 111689,\n",
       "   'origin': 'CYCLIC_CROSSOVER',\n",
       "   'permutation': [0,\n",
       "    44,\n",
       "    14,\n",
       "    42,\n",
       "    13,\n",
       "    35,\n",
       "    1,\n",
       "    6,\n",
       "    27,\n",
       "    36,\n",
       "    41,\n",
       "    59,\n",
       "    54,\n",
       "    45,\n",
       "    8,\n",
       "    56,\n",
       "    20,\n",
       "    31,\n",
       "    21,\n",
       "    3,\n",
       "    10,\n",
       "    4,\n",
       "    7,\n",
       "    40,\n",
       "    43,\n",
       "    9,\n",
       "    16,\n",
       "    29,\n",
       "    30,\n",
       "    11,\n",
       "    51,\n",
       "    18,\n",
       "    22,\n",
       "    19,\n",
       "    46,\n",
       "    47,\n",
       "    26,\n",
       "    5,\n",
       "    17,\n",
       "    12,\n",
       "    23,\n",
       "    57,\n",
       "    28,\n",
       "    34,\n",
       "    15,\n",
       "    58,\n",
       "    25,\n",
       "    50,\n",
       "    32,\n",
       "    33,\n",
       "    53,\n",
       "    39,\n",
       "    2,\n",
       "    37,\n",
       "    38,\n",
       "    48,\n",
       "    55,\n",
       "    49,\n",
       "    52,\n",
       "    24]},\n",
       "  {'fitness': 111689,\n",
       "   'origin': 'CYCLIC_CROSSOVER',\n",
       "   'permutation': [0,\n",
       "    44,\n",
       "    14,\n",
       "    42,\n",
       "    13,\n",
       "    35,\n",
       "    1,\n",
       "    6,\n",
       "    27,\n",
       "    36,\n",
       "    41,\n",
       "    59,\n",
       "    54,\n",
       "    45,\n",
       "    8,\n",
       "    56,\n",
       "    20,\n",
       "    31,\n",
       "    21,\n",
       "    3,\n",
       "    10,\n",
       "    4,\n",
       "    7,\n",
       "    40,\n",
       "    43,\n",
       "    9,\n",
       "    16,\n",
       "    29,\n",
       "    30,\n",
       "    11,\n",
       "    51,\n",
       "    18,\n",
       "    22,\n",
       "    19,\n",
       "    46,\n",
       "    47,\n",
       "    26,\n",
       "    5,\n",
       "    17,\n",
       "    12,\n",
       "    23,\n",
       "    57,\n",
       "    28,\n",
       "    34,\n",
       "    15,\n",
       "    58,\n",
       "    25,\n",
       "    50,\n",
       "    32,\n",
       "    33,\n",
       "    53,\n",
       "    39,\n",
       "    2,\n",
       "    37,\n",
       "    38,\n",
       "    48,\n",
       "    55,\n",
       "    49,\n",
       "    52,\n",
       "    24]},\n",
       "  {'fitness': 111689,\n",
       "   'origin': 'CYCLIC_CROSSOVER',\n",
       "   'permutation': [0,\n",
       "    44,\n",
       "    14,\n",
       "    42,\n",
       "    13,\n",
       "    35,\n",
       "    1,\n",
       "    6,\n",
       "    27,\n",
       "    36,\n",
       "    41,\n",
       "    59,\n",
       "    54,\n",
       "    45,\n",
       "    8,\n",
       "    56,\n",
       "    20,\n",
       "    31,\n",
       "    21,\n",
       "    3,\n",
       "    10,\n",
       "    4,\n",
       "    7,\n",
       "    40,\n",
       "    43,\n",
       "    9,\n",
       "    16,\n",
       "    29,\n",
       "    30,\n",
       "    11,\n",
       "    51,\n",
       "    18,\n",
       "    22,\n",
       "    19,\n",
       "    46,\n",
       "    47,\n",
       "    26,\n",
       "    5,\n",
       "    17,\n",
       "    12,\n",
       "    23,\n",
       "    57,\n",
       "    28,\n",
       "    34,\n",
       "    15,\n",
       "    58,\n",
       "    25,\n",
       "    50,\n",
       "    32,\n",
       "    33,\n",
       "    53,\n",
       "    39,\n",
       "    2,\n",
       "    37,\n",
       "    38,\n",
       "    48,\n",
       "    55,\n",
       "    49,\n",
       "    52,\n",
       "    24]},\n",
       "  {'fitness': 111689,\n",
       "   'origin': 'ORDER_CROSSOVER',\n",
       "   'permutation': [0,\n",
       "    44,\n",
       "    14,\n",
       "    42,\n",
       "    13,\n",
       "    35,\n",
       "    1,\n",
       "    6,\n",
       "    27,\n",
       "    36,\n",
       "    41,\n",
       "    59,\n",
       "    54,\n",
       "    45,\n",
       "    8,\n",
       "    56,\n",
       "    20,\n",
       "    31,\n",
       "    21,\n",
       "    3,\n",
       "    10,\n",
       "    4,\n",
       "    7,\n",
       "    40,\n",
       "    43,\n",
       "    9,\n",
       "    16,\n",
       "    29,\n",
       "    30,\n",
       "    11,\n",
       "    51,\n",
       "    18,\n",
       "    22,\n",
       "    19,\n",
       "    46,\n",
       "    47,\n",
       "    26,\n",
       "    5,\n",
       "    17,\n",
       "    12,\n",
       "    23,\n",
       "    57,\n",
       "    28,\n",
       "    34,\n",
       "    15,\n",
       "    58,\n",
       "    25,\n",
       "    50,\n",
       "    32,\n",
       "    33,\n",
       "    53,\n",
       "    39,\n",
       "    2,\n",
       "    37,\n",
       "    38,\n",
       "    48,\n",
       "    55,\n",
       "    49,\n",
       "    52,\n",
       "    24]}]}"
      ]
     },
     "execution_count": 8,
     "metadata": {},
     "output_type": "execute_result"
    }
   ],
   "source": [
    "output"
   ]
  },
  {
   "cell_type": "code",
   "execution_count": null,
   "id": "1c1c7f0c",
   "metadata": {},
   "outputs": [],
   "source": []
  }
 ],
 "metadata": {
  "kernelspec": {
   "display_name": "Python 3",
   "language": "python",
   "name": "python3"
  },
  "language_info": {
   "codemirror_mode": {
    "name": "ipython",
    "version": 3
   },
   "file_extension": ".py",
   "mimetype": "text/x-python",
   "name": "python",
   "nbconvert_exporter": "python",
   "pygments_lexer": "ipython3",
   "version": "3.12.1"
  }
 },
 "nbformat": 4,
 "nbformat_minor": 5
}
