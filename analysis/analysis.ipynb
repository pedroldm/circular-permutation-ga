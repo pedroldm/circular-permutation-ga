{
 "cells": [
  {
   "cell_type": "code",
   "execution_count": 41,
   "id": "9ba60541",
   "metadata": {},
   "outputs": [],
   "source": [
    "import subprocess\n",
    "import random\n",
    "import json\n",
    "import plotly.express as px\n",
    "import pandas as pd"
   ]
  },
  {
   "cell_type": "code",
   "execution_count": null,
   "id": "f23a22a3",
   "metadata": {},
   "outputs": [],
   "source": [
    "main_path = \"/mnt/c/Users/pedro/OneDrive/Área de Trabalho/circular-permutation-ga/main_prd\"\n",
    "parameters = {\n",
    "    \"filePath\": \"/mnt/c/Users/pedro/OneDrive/Área de Trabalho/circular-permutation-ga/input/tip/instances/y/y-60_t.txt\",\n",
    "    \"p\": 1500,\n",
    "    \"pe\": 0.10,\n",
    "    \"pm\": 0.20,\n",
    "    \"rhoe\": 0.60,\n",
    "    \"wheelBias\": 10.0,\n",
    "    \"mutationType\": 2,\n",
    "    \"maxGens\": 2000,\n",
    "    \"maxGensWithoutImprovement\": 1000,\n",
    "    \"threads\": 4,\n",
    "    \"seed\": random.randint(10000, 1000000),\n",
    "    \"maxTime\": 10\n",
    "}"
   ]
  },
  {
   "cell_type": "code",
   "execution_count": 43,
   "id": "1b6d2dc0",
   "metadata": {},
   "outputs": [],
   "source": [
    "command = [f\"{main_path}\"] + [f\"--{p}={v}\" for p, v in parameters.items()]\n",
    "result = subprocess.run(command, capture_output=True)\n",
    "output = json.loads(result.stdout)"
   ]
  },
  {
   "cell_type": "code",
   "execution_count": 44,
   "id": "ce4406a0",
   "metadata": {},
   "outputs": [
    {
     "data": {
      "application/vnd.plotly.v1+json": {
       "config": {
        "plotlyServerURL": "https://plot.ly"
       },
       "data": [
        {
         "customdata": [
          [
           "INITIAL",
           2.88e-7
          ],
          [
           "CYCLIC_CROSSOVER",
           0.010450769
          ],
          [
           "CYCLIC_CROSSOVER",
           0.025053205
          ],
          [
           "CYCLIC_CROSSOVER",
           0.054852632
          ],
          [
           "CYCLIC_CROSSOVER",
           0.101335839
          ],
          [
           "CYCLIC_CROSSOVER",
           0.112640167
          ],
          [
           "CYCLIC_CROSSOVER",
           0.150641476
          ],
          [
           "CYCLIC_CROSSOVER",
           0.203564939
          ],
          [
           "CYCLIC_CROSSOVER",
           0.296759432
          ],
          [
           "CYCLIC_CROSSOVER",
           0.339987591
          ],
          [
           "CYCLIC_CROSSOVER",
           0.410352372
          ],
          [
           "CYCLIC_CROSSOVER",
           0.462584812
          ],
          [
           "CYCLIC_CROSSOVER",
           0.54373961
          ],
          [
           "CYCLIC_CROSSOVER",
           0.556881759
          ],
          [
           "CYCLIC_CROSSOVER",
           0.582779203
          ],
          [
           "CYCLIC_CROSSOVER",
           0.594100289
          ],
          [
           "CYCLIC_CROSSOVER",
           0.630335984
          ],
          [
           "CYCLIC_CROSSOVER",
           0.658867344
          ],
          [
           "CYCLIC_CROSSOVER",
           0.673746347
          ],
          [
           "CYCLIC_CROSSOVER",
           0.702529906
          ],
          [
           "CYCLIC_CROSSOVER",
           0.717412214
          ],
          [
           "CYCLIC_CROSSOVER",
           0.728179001
          ],
          [
           "CYCLIC_CROSSOVER",
           0.752401455
          ],
          [
           "CYCLIC_CROSSOVER",
           0.764606677
          ],
          [
           "CYCLIC_CROSSOVER",
           0.803785828
          ],
          [
           "CYCLIC_CROSSOVER",
           0.816547147
          ],
          [
           "CYCLIC_CROSSOVER",
           0.844997243
          ],
          [
           "CYCLIC_CROSSOVER",
           0.862231004
          ],
          [
           "CYCLIC_CROSSOVER",
           0.912720172
          ],
          [
           "CYCLIC_CROSSOVER",
           0.924492538
          ],
          [
           "CYCLIC_CROSSOVER",
           0.940939598
          ],
          [
           "CYCLIC_CROSSOVER",
           0.95145321
          ],
          [
           "CYCLIC_CROSSOVER",
           0.976159819
          ],
          [
           "CYCLIC_CROSSOVER",
           1.073186091
          ],
          [
           "CYCLIC_CROSSOVER",
           1.085504959
          ],
          [
           "CYCLIC_CROSSOVER",
           1.110834227
          ],
          [
           "CYCLIC_CROSSOVER",
           1.123292657
          ],
          [
           "CYCLIC_CROSSOVER",
           1.15447218
          ],
          [
           "CYCLIC_CROSSOVER",
           1.1615002
          ],
          [
           "CYCLIC_CROSSOVER",
           1.175197325
          ],
          [
           "CYCLIC_CROSSOVER",
           1.210938339
          ],
          [
           "CYCLIC_CROSSOVER",
           1.22390806
          ],
          [
           "MUTATION",
           1.268682596
          ],
          [
           "CYCLIC_CROSSOVER",
           1.307715064
          ],
          [
           "CYCLIC_CROSSOVER",
           1.319909839
          ],
          [
           "CYCLIC_CROSSOVER",
           1.344517075
          ],
          [
           "CYCLIC_CROSSOVER",
           1.379502653
          ],
          [
           "CYCLIC_CROSSOVER",
           1.404976257
          ],
          [
           "CYCLIC_CROSSOVER",
           1.416994443
          ],
          [
           "CYCLIC_CROSSOVER",
           1.427951602
          ],
          [
           "CYCLIC_CROSSOVER",
           1.43759831
          ],
          [
           "CYCLIC_CROSSOVER",
           1.471265598
          ],
          [
           "CYCLIC_CROSSOVER",
           1.485035045
          ],
          [
           "CYCLIC_CROSSOVER",
           1.51574674
          ],
          [
           "CYCLIC_CROSSOVER",
           1.557128449
          ],
          [
           "CYCLIC_CROSSOVER",
           1.570463224
          ],
          [
           "CYCLIC_CROSSOVER",
           1.598543461
          ],
          [
           "CYCLIC_CROSSOVER",
           1.613918812
          ],
          [
           "CYCLIC_CROSSOVER",
           1.627391412
          ],
          [
           "CYCLIC_CROSSOVER",
           1.643083238
          ],
          [
           "CYCLIC_CROSSOVER",
           1.657606859
          ],
          [
           "CYCLIC_CROSSOVER",
           1.732075724
          ],
          [
           "CYCLIC_CROSSOVER",
           1.747278483
          ],
          [
           "CYCLIC_CROSSOVER",
           1.797959257
          ],
          [
           "CYCLIC_CROSSOVER",
           1.810620637
          ],
          [
           "CYCLIC_CROSSOVER",
           1.819278778
          ],
          [
           "CYCLIC_CROSSOVER",
           1.841404794
          ],
          [
           "CYCLIC_CROSSOVER",
           1.855089346
          ],
          [
           "CYCLIC_CROSSOVER",
           1.904158783
          ],
          [
           "CYCLIC_CROSSOVER",
           1.962995833
          ],
          [
           "CYCLIC_CROSSOVER",
           1.978132008
          ],
          [
           "CYCLIC_CROSSOVER",
           2.051897073
          ],
          [
           "CYCLIC_CROSSOVER",
           2.067521403
          ],
          [
           "CYCLIC_CROSSOVER",
           2.079903638
          ],
          [
           "CYCLIC_CROSSOVER",
           2.09312574
          ],
          [
           "MUTATION",
           2.158293882
          ],
          [
           "CYCLIC_CROSSOVER",
           2.195195505
          ],
          [
           "MUTATION",
           2.21515147
          ],
          [
           "CYCLIC_CROSSOVER",
           2.229184702
          ],
          [
           "CYCLIC_CROSSOVER",
           2.240589801
          ],
          [
           "CYCLIC_CROSSOVER",
           2.256995811
          ],
          [
           "CYCLIC_CROSSOVER",
           2.288824888
          ],
          [
           "CYCLIC_CROSSOVER",
           2.300158201
          ],
          [
           "CYCLIC_CROSSOVER",
           2.312640328
          ],
          [
           "MUTATION",
           2.3427685
          ],
          [
           "CYCLIC_CROSSOVER",
           2.354662626
          ],
          [
           "CYCLIC_CROSSOVER",
           2.373464885
          ],
          [
           "CYCLIC_CROSSOVER",
           2.397370748
          ],
          [
           "CYCLIC_CROSSOVER",
           2.406830917
          ],
          [
           "MUTATION",
           2.451189758
          ],
          [
           "CYCLIC_CROSSOVER",
           2.46031832
          ],
          [
           "CYCLIC_CROSSOVER",
           2.471221359
          ],
          [
           "CYCLIC_CROSSOVER",
           2.494267556
          ],
          [
           "CYCLIC_CROSSOVER",
           2.508098141
          ],
          [
           "CYCLIC_CROSSOVER",
           2.571469579
          ],
          [
           "CYCLIC_CROSSOVER",
           2.586202
          ],
          [
           "CYCLIC_CROSSOVER",
           2.6013379
          ],
          [
           "CYCLIC_CROSSOVER",
           2.635091803
          ],
          [
           "CYCLIC_CROSSOVER",
           2.714744691
          ],
          [
           "CYCLIC_CROSSOVER",
           2.770022772
          ],
          [
           "CYCLIC_CROSSOVER",
           2.794753012
          ],
          [
           "CYCLIC_CROSSOVER",
           2.870880083
          ],
          [
           "CYCLIC_CROSSOVER",
           2.918135328
          ],
          [
           "CYCLIC_CROSSOVER",
           2.973173909
          ],
          [
           "CYCLIC_CROSSOVER",
           2.989837484
          ],
          [
           "CYCLIC_CROSSOVER",
           3.004480286
          ],
          [
           "CYCLIC_CROSSOVER",
           3.018336056
          ],
          [
           "CYCLIC_CROSSOVER",
           3.107012869
          ],
          [
           "MUTATION",
           3.121888522
          ],
          [
           "CYCLIC_CROSSOVER",
           3.13593168
          ],
          [
           "CYCLIC_CROSSOVER",
           3.151149313
          ],
          [
           "CYCLIC_CROSSOVER",
           3.206119492
          ],
          [
           "CYCLIC_CROSSOVER",
           3.233977626
          ],
          [
           "CYCLIC_CROSSOVER",
           3.24965241
          ],
          [
           "CYCLIC_CROSSOVER",
           3.290964847
          ],
          [
           "MUTATION",
           3.304200995
          ],
          [
           "CYCLIC_CROSSOVER",
           3.317138661
          ],
          [
           "CYCLIC_CROSSOVER",
           3.331991165
          ],
          [
           "CYCLIC_CROSSOVER",
           3.360912579
          ],
          [
           "CYCLIC_CROSSOVER",
           3.403043675
          ],
          [
           "CYCLIC_CROSSOVER",
           3.415829083
          ],
          [
           "CYCLIC_CROSSOVER",
           3.469697469
          ],
          [
           "CYCLIC_CROSSOVER",
           3.567136381
          ],
          [
           "CYCLIC_CROSSOVER",
           3.593364761
          ],
          [
           "MUTATION",
           3.608513295
          ],
          [
           "CYCLIC_CROSSOVER",
           3.666236119
          ],
          [
           "CYCLIC_CROSSOVER",
           3.697519394
          ],
          [
           "CYCLIC_CROSSOVER",
           3.709542605
          ],
          [
           "CYCLIC_CROSSOVER",
           3.750966299
          ],
          [
           "CYCLIC_CROSSOVER",
           3.973682667
          ],
          [
           "CYCLIC_CROSSOVER",
           3.987803875
          ],
          [
           "CYCLIC_CROSSOVER",
           4.062673717
          ],
          [
           "CYCLIC_CROSSOVER",
           4.075517435
          ],
          [
           "CYCLIC_CROSSOVER",
           4.117998152
          ],
          [
           "CYCLIC_CROSSOVER",
           4.142350254
          ],
          [
           "CYCLIC_CROSSOVER",
           4.202943405
          ],
          [
           "CYCLIC_CROSSOVER",
           4.265217531
          ],
          [
           "CYCLIC_CROSSOVER",
           4.282213085
          ],
          [
           "CYCLIC_CROSSOVER",
           4.333315745
          ],
          [
           "CYCLIC_CROSSOVER",
           4.428689389
          ],
          [
           "CYCLIC_CROSSOVER",
           4.451179431
          ],
          [
           "CYCLIC_CROSSOVER",
           4.461888711
          ],
          [
           "CYCLIC_CROSSOVER",
           4.544315278
          ],
          [
           "CYCLIC_CROSSOVER",
           4.563990678
          ],
          [
           "CYCLIC_CROSSOVER",
           4.58901271
          ],
          [
           "CYCLIC_CROSSOVER",
           4.63783147
          ],
          [
           "CYCLIC_CROSSOVER",
           4.648121816
          ],
          [
           "CYCLIC_CROSSOVER",
           4.682704226
          ],
          [
           "CYCLIC_CROSSOVER",
           4.714857884
          ],
          [
           "CYCLIC_CROSSOVER",
           4.768759093
          ],
          [
           "CYCLIC_CROSSOVER",
           4.781441267
          ],
          [
           "CYCLIC_CROSSOVER",
           4.839256913
          ],
          [
           "CYCLIC_CROSSOVER",
           4.882056531
          ],
          [
           "CYCLIC_CROSSOVER",
           4.954810045
          ],
          [
           "CYCLIC_CROSSOVER",
           4.993341124
          ],
          [
           "CYCLIC_CROSSOVER",
           5.015759426
          ],
          [
           "CYCLIC_CROSSOVER",
           5.121350969
          ],
          [
           "CYCLIC_CROSSOVER",
           5.148593626
          ],
          [
           "CYCLIC_CROSSOVER",
           5.19051579
          ],
          [
           "CYCLIC_CROSSOVER",
           5.231223367
          ],
          [
           "CYCLIC_CROSSOVER",
           5.275111853
          ],
          [
           "CYCLIC_CROSSOVER",
           5.301785335
          ],
          [
           "CYCLIC_CROSSOVER",
           5.315382779
          ],
          [
           "MUTATION",
           5.41436273
          ],
          [
           "CYCLIC_CROSSOVER",
           5.457165608
          ],
          [
           "CYCLIC_CROSSOVER",
           5.485403655
          ],
          [
           "CYCLIC_CROSSOVER",
           5.629448873
          ],
          [
           "CYCLIC_CROSSOVER",
           5.681636131
          ],
          [
           "CYCLIC_CROSSOVER",
           5.696864716
          ],
          [
           "CYCLIC_CROSSOVER",
           5.857766575
          ],
          [
           "CYCLIC_CROSSOVER",
           5.919974495
          ],
          [
           "CYCLIC_CROSSOVER",
           5.972947764
          ],
          [
           "CYCLIC_CROSSOVER",
           5.998270398
          ],
          [
           "MUTATION",
           6.113573214
          ],
          [
           "CYCLIC_CROSSOVER",
           6.139942531
          ]
         ],
         "hovertemplate": "Generation=%{x}<br>Best Fitness=%{y}<br>Origin=%{customdata[0]}<br>Elapsed Time (s)=%{customdata[1]:.6f}<extra></extra>",
         "legendgroup": "",
         "line": {
          "color": "#636efa",
          "dash": "solid"
         },
         "marker": {
          "symbol": "circle"
         },
         "mode": "lines+markers",
         "name": "",
         "orientation": "v",
         "showlegend": false,
         "type": "scatter",
         "x": {
          "bdata": "AQACAAMABQAIAAkADAAQABcAGgAgACQAKgArAC0ALgAyADQANQA3ADgAOQA8AD0AQABBAEQARgBLAEwATQBOAFAAWABZAFsAXABfAGAAYQBkAGUAaQBsAG0AbwByAHQAdQB2AHcAegB7AH0AgACBAIMAhACFAIYAhwCMAI0AkQCSAJMAlQCWAJoAngCfAKQApQCmAKcArACvALEAsgCzALUAuAC5ALoAvgC/AMEAwwDEAMgAyQDKAMwAzQDRANIA0wDVANsA4ADiAOgA7ADwAPEA8gDzAPkA+gD7APwAAAECAQMBBgEHAQgBCQELAQ4BDwERARkBGwEcASABIgEjASYBLAEtATMBNAE4AToBPwFEAUUBSQFQAVIBUwFZAVsBXQFhAWIBZQFoAWwBbQFxAXQBeQF8AX4BhgGIAYsBjgGSAZQBlQGcAZ8BoQGqAa4BrwG6Ab8BwwHGAdAB0gE=",
          "dtype": "i2"
         },
         "xaxis": "x",
         "y": {
          "bdata": "jtYBADjVAQAc0wEAK9IBAMvOAQBUzgEAlM0BAK3JAQAeyQEAZsgBAN7GAQCQxgEAf8UBAMTEAQCcxAEAJsQBALXDAQCKwwEA9cIBAKrCAQBtwgEAr8EBAPXAAQDbwAEAt8ABAOm/AQBVvwEA0b4BALm+AQA4vgEAGr4BAF69AQA5uwEAz7oBAJO6AQCOugEANLoBAAq6AQC4uQEAi7kBAIa5AQA+uQEADLkBAPy4AQDzuAEAYbgBAEi4AQBCuAEAN7gBAN+3AQC9twEArrcBAG+3AQBHtwEAM7cBADK3AQALtwEA7rYBAOK2AQCotgEAgbYBAGm2AQBBtgEAMbYBABm2AQABtgEA/LUBANu1AQDHtQEAkrUBAI21AQCFtQEAebUBAHW1AQBTtQEAUbUBADq1AQAwtQEALLUBAAi1AQAEtQEA/rQBAO20AQDXtAEA0LQBAMO0AQC7tAEArLQBAJq0AQCStAEAibQBAIG0AQB+tAEAVbQBAEq0AQAptAEAGbQBABW0AQD9swEA8bMBAOqzAQDgswEA3LMBANuzAQDWswEA07MBAMezAQC8swEAtbMBAK+zAQCpswEAprMBAKKzAQCZswEAlLMBAI2zAQCJswEAhbMBAIKzAQCAswEAbrMBAGizAQBjswEAXbMBAFyzAQBSswEASLMBAEWzAQBAswEAOLMBACmzAQAoswEAHbMBABWzAQAQswEAC7MBAAmzAQAAswEA+bIBAPSyAQDxsgEA6bIBAOSyAQDdsgEA3LIBANeyAQDUsgEAz7IBAM2yAQDKsgEAyLIBAMayAQDAsgEAv7IBALyyAQC2sgEAtLIBALGyAQCwsgEAqrIBAKiyAQCnsgEApLIBAKCyAQCdsgEAmrIBAJmyAQCYsgEAl7IBAJWyAQCUsgEAkrIBAJGyAQCOsgEAjbIBAA==",
          "dtype": "i4"
         },
         "yaxis": "y"
        }
       ],
       "layout": {
        "font": {
         "size": 14
        },
        "hovermode": "x unified",
        "legend": {
         "tracegroupgap": 0
        },
        "template": {
         "data": {
          "bar": [
           {
            "error_x": {
             "color": "#2a3f5f"
            },
            "error_y": {
             "color": "#2a3f5f"
            },
            "marker": {
             "line": {
              "color": "white",
              "width": 0.5
             },
             "pattern": {
              "fillmode": "overlay",
              "size": 10,
              "solidity": 0.2
             }
            },
            "type": "bar"
           }
          ],
          "barpolar": [
           {
            "marker": {
             "line": {
              "color": "white",
              "width": 0.5
             },
             "pattern": {
              "fillmode": "overlay",
              "size": 10,
              "solidity": 0.2
             }
            },
            "type": "barpolar"
           }
          ],
          "carpet": [
           {
            "aaxis": {
             "endlinecolor": "#2a3f5f",
             "gridcolor": "#C8D4E3",
             "linecolor": "#C8D4E3",
             "minorgridcolor": "#C8D4E3",
             "startlinecolor": "#2a3f5f"
            },
            "baxis": {
             "endlinecolor": "#2a3f5f",
             "gridcolor": "#C8D4E3",
             "linecolor": "#C8D4E3",
             "minorgridcolor": "#C8D4E3",
             "startlinecolor": "#2a3f5f"
            },
            "type": "carpet"
           }
          ],
          "choropleth": [
           {
            "colorbar": {
             "outlinewidth": 0,
             "ticks": ""
            },
            "type": "choropleth"
           }
          ],
          "contour": [
           {
            "colorbar": {
             "outlinewidth": 0,
             "ticks": ""
            },
            "colorscale": [
             [
              0,
              "#0d0887"
             ],
             [
              0.1111111111111111,
              "#46039f"
             ],
             [
              0.2222222222222222,
              "#7201a8"
             ],
             [
              0.3333333333333333,
              "#9c179e"
             ],
             [
              0.4444444444444444,
              "#bd3786"
             ],
             [
              0.5555555555555556,
              "#d8576b"
             ],
             [
              0.6666666666666666,
              "#ed7953"
             ],
             [
              0.7777777777777778,
              "#fb9f3a"
             ],
             [
              0.8888888888888888,
              "#fdca26"
             ],
             [
              1,
              "#f0f921"
             ]
            ],
            "type": "contour"
           }
          ],
          "contourcarpet": [
           {
            "colorbar": {
             "outlinewidth": 0,
             "ticks": ""
            },
            "type": "contourcarpet"
           }
          ],
          "heatmap": [
           {
            "colorbar": {
             "outlinewidth": 0,
             "ticks": ""
            },
            "colorscale": [
             [
              0,
              "#0d0887"
             ],
             [
              0.1111111111111111,
              "#46039f"
             ],
             [
              0.2222222222222222,
              "#7201a8"
             ],
             [
              0.3333333333333333,
              "#9c179e"
             ],
             [
              0.4444444444444444,
              "#bd3786"
             ],
             [
              0.5555555555555556,
              "#d8576b"
             ],
             [
              0.6666666666666666,
              "#ed7953"
             ],
             [
              0.7777777777777778,
              "#fb9f3a"
             ],
             [
              0.8888888888888888,
              "#fdca26"
             ],
             [
              1,
              "#f0f921"
             ]
            ],
            "type": "heatmap"
           }
          ],
          "histogram": [
           {
            "marker": {
             "pattern": {
              "fillmode": "overlay",
              "size": 10,
              "solidity": 0.2
             }
            },
            "type": "histogram"
           }
          ],
          "histogram2d": [
           {
            "colorbar": {
             "outlinewidth": 0,
             "ticks": ""
            },
            "colorscale": [
             [
              0,
              "#0d0887"
             ],
             [
              0.1111111111111111,
              "#46039f"
             ],
             [
              0.2222222222222222,
              "#7201a8"
             ],
             [
              0.3333333333333333,
              "#9c179e"
             ],
             [
              0.4444444444444444,
              "#bd3786"
             ],
             [
              0.5555555555555556,
              "#d8576b"
             ],
             [
              0.6666666666666666,
              "#ed7953"
             ],
             [
              0.7777777777777778,
              "#fb9f3a"
             ],
             [
              0.8888888888888888,
              "#fdca26"
             ],
             [
              1,
              "#f0f921"
             ]
            ],
            "type": "histogram2d"
           }
          ],
          "histogram2dcontour": [
           {
            "colorbar": {
             "outlinewidth": 0,
             "ticks": ""
            },
            "colorscale": [
             [
              0,
              "#0d0887"
             ],
             [
              0.1111111111111111,
              "#46039f"
             ],
             [
              0.2222222222222222,
              "#7201a8"
             ],
             [
              0.3333333333333333,
              "#9c179e"
             ],
             [
              0.4444444444444444,
              "#bd3786"
             ],
             [
              0.5555555555555556,
              "#d8576b"
             ],
             [
              0.6666666666666666,
              "#ed7953"
             ],
             [
              0.7777777777777778,
              "#fb9f3a"
             ],
             [
              0.8888888888888888,
              "#fdca26"
             ],
             [
              1,
              "#f0f921"
             ]
            ],
            "type": "histogram2dcontour"
           }
          ],
          "mesh3d": [
           {
            "colorbar": {
             "outlinewidth": 0,
             "ticks": ""
            },
            "type": "mesh3d"
           }
          ],
          "parcoords": [
           {
            "line": {
             "colorbar": {
              "outlinewidth": 0,
              "ticks": ""
             }
            },
            "type": "parcoords"
           }
          ],
          "pie": [
           {
            "automargin": true,
            "type": "pie"
           }
          ],
          "scatter": [
           {
            "fillpattern": {
             "fillmode": "overlay",
             "size": 10,
             "solidity": 0.2
            },
            "type": "scatter"
           }
          ],
          "scatter3d": [
           {
            "line": {
             "colorbar": {
              "outlinewidth": 0,
              "ticks": ""
             }
            },
            "marker": {
             "colorbar": {
              "outlinewidth": 0,
              "ticks": ""
             }
            },
            "type": "scatter3d"
           }
          ],
          "scattercarpet": [
           {
            "marker": {
             "colorbar": {
              "outlinewidth": 0,
              "ticks": ""
             }
            },
            "type": "scattercarpet"
           }
          ],
          "scattergeo": [
           {
            "marker": {
             "colorbar": {
              "outlinewidth": 0,
              "ticks": ""
             }
            },
            "type": "scattergeo"
           }
          ],
          "scattergl": [
           {
            "marker": {
             "colorbar": {
              "outlinewidth": 0,
              "ticks": ""
             }
            },
            "type": "scattergl"
           }
          ],
          "scattermap": [
           {
            "marker": {
             "colorbar": {
              "outlinewidth": 0,
              "ticks": ""
             }
            },
            "type": "scattermap"
           }
          ],
          "scattermapbox": [
           {
            "marker": {
             "colorbar": {
              "outlinewidth": 0,
              "ticks": ""
             }
            },
            "type": "scattermapbox"
           }
          ],
          "scatterpolar": [
           {
            "marker": {
             "colorbar": {
              "outlinewidth": 0,
              "ticks": ""
             }
            },
            "type": "scatterpolar"
           }
          ],
          "scatterpolargl": [
           {
            "marker": {
             "colorbar": {
              "outlinewidth": 0,
              "ticks": ""
             }
            },
            "type": "scatterpolargl"
           }
          ],
          "scatterternary": [
           {
            "marker": {
             "colorbar": {
              "outlinewidth": 0,
              "ticks": ""
             }
            },
            "type": "scatterternary"
           }
          ],
          "surface": [
           {
            "colorbar": {
             "outlinewidth": 0,
             "ticks": ""
            },
            "colorscale": [
             [
              0,
              "#0d0887"
             ],
             [
              0.1111111111111111,
              "#46039f"
             ],
             [
              0.2222222222222222,
              "#7201a8"
             ],
             [
              0.3333333333333333,
              "#9c179e"
             ],
             [
              0.4444444444444444,
              "#bd3786"
             ],
             [
              0.5555555555555556,
              "#d8576b"
             ],
             [
              0.6666666666666666,
              "#ed7953"
             ],
             [
              0.7777777777777778,
              "#fb9f3a"
             ],
             [
              0.8888888888888888,
              "#fdca26"
             ],
             [
              1,
              "#f0f921"
             ]
            ],
            "type": "surface"
           }
          ],
          "table": [
           {
            "cells": {
             "fill": {
              "color": "#EBF0F8"
             },
             "line": {
              "color": "white"
             }
            },
            "header": {
             "fill": {
              "color": "#C8D4E3"
             },
             "line": {
              "color": "white"
             }
            },
            "type": "table"
           }
          ]
         },
         "layout": {
          "annotationdefaults": {
           "arrowcolor": "#2a3f5f",
           "arrowhead": 0,
           "arrowwidth": 1
          },
          "autotypenumbers": "strict",
          "coloraxis": {
           "colorbar": {
            "outlinewidth": 0,
            "ticks": ""
           }
          },
          "colorscale": {
           "diverging": [
            [
             0,
             "#8e0152"
            ],
            [
             0.1,
             "#c51b7d"
            ],
            [
             0.2,
             "#de77ae"
            ],
            [
             0.3,
             "#f1b6da"
            ],
            [
             0.4,
             "#fde0ef"
            ],
            [
             0.5,
             "#f7f7f7"
            ],
            [
             0.6,
             "#e6f5d0"
            ],
            [
             0.7,
             "#b8e186"
            ],
            [
             0.8,
             "#7fbc41"
            ],
            [
             0.9,
             "#4d9221"
            ],
            [
             1,
             "#276419"
            ]
           ],
           "sequential": [
            [
             0,
             "#0d0887"
            ],
            [
             0.1111111111111111,
             "#46039f"
            ],
            [
             0.2222222222222222,
             "#7201a8"
            ],
            [
             0.3333333333333333,
             "#9c179e"
            ],
            [
             0.4444444444444444,
             "#bd3786"
            ],
            [
             0.5555555555555556,
             "#d8576b"
            ],
            [
             0.6666666666666666,
             "#ed7953"
            ],
            [
             0.7777777777777778,
             "#fb9f3a"
            ],
            [
             0.8888888888888888,
             "#fdca26"
            ],
            [
             1,
             "#f0f921"
            ]
           ],
           "sequentialminus": [
            [
             0,
             "#0d0887"
            ],
            [
             0.1111111111111111,
             "#46039f"
            ],
            [
             0.2222222222222222,
             "#7201a8"
            ],
            [
             0.3333333333333333,
             "#9c179e"
            ],
            [
             0.4444444444444444,
             "#bd3786"
            ],
            [
             0.5555555555555556,
             "#d8576b"
            ],
            [
             0.6666666666666666,
             "#ed7953"
            ],
            [
             0.7777777777777778,
             "#fb9f3a"
            ],
            [
             0.8888888888888888,
             "#fdca26"
            ],
            [
             1,
             "#f0f921"
            ]
           ]
          },
          "colorway": [
           "#636efa",
           "#EF553B",
           "#00cc96",
           "#ab63fa",
           "#FFA15A",
           "#19d3f3",
           "#FF6692",
           "#B6E880",
           "#FF97FF",
           "#FECB52"
          ],
          "font": {
           "color": "#2a3f5f"
          },
          "geo": {
           "bgcolor": "white",
           "lakecolor": "white",
           "landcolor": "white",
           "showlakes": true,
           "showland": true,
           "subunitcolor": "#C8D4E3"
          },
          "hoverlabel": {
           "align": "left"
          },
          "hovermode": "closest",
          "mapbox": {
           "style": "light"
          },
          "paper_bgcolor": "white",
          "plot_bgcolor": "white",
          "polar": {
           "angularaxis": {
            "gridcolor": "#EBF0F8",
            "linecolor": "#EBF0F8",
            "ticks": ""
           },
           "bgcolor": "white",
           "radialaxis": {
            "gridcolor": "#EBF0F8",
            "linecolor": "#EBF0F8",
            "ticks": ""
           }
          },
          "scene": {
           "xaxis": {
            "backgroundcolor": "white",
            "gridcolor": "#DFE8F3",
            "gridwidth": 2,
            "linecolor": "#EBF0F8",
            "showbackground": true,
            "ticks": "",
            "zerolinecolor": "#EBF0F8"
           },
           "yaxis": {
            "backgroundcolor": "white",
            "gridcolor": "#DFE8F3",
            "gridwidth": 2,
            "linecolor": "#EBF0F8",
            "showbackground": true,
            "ticks": "",
            "zerolinecolor": "#EBF0F8"
           },
           "zaxis": {
            "backgroundcolor": "white",
            "gridcolor": "#DFE8F3",
            "gridwidth": 2,
            "linecolor": "#EBF0F8",
            "showbackground": true,
            "ticks": "",
            "zerolinecolor": "#EBF0F8"
           }
          },
          "shapedefaults": {
           "line": {
            "color": "#2a3f5f"
           }
          },
          "ternary": {
           "aaxis": {
            "gridcolor": "#DFE8F3",
            "linecolor": "#A2B1C6",
            "ticks": ""
           },
           "baxis": {
            "gridcolor": "#DFE8F3",
            "linecolor": "#A2B1C6",
            "ticks": ""
           },
           "bgcolor": "white",
           "caxis": {
            "gridcolor": "#DFE8F3",
            "linecolor": "#A2B1C6",
            "ticks": ""
           }
          },
          "title": {
           "x": 0.05
          },
          "xaxis": {
           "automargin": true,
           "gridcolor": "#EBF0F8",
           "linecolor": "#EBF0F8",
           "ticks": "",
           "title": {
            "standoff": 15
           },
           "zerolinecolor": "#EBF0F8",
           "zerolinewidth": 2
          },
          "yaxis": {
           "automargin": true,
           "gridcolor": "#EBF0F8",
           "linecolor": "#EBF0F8",
           "ticks": "",
           "title": {
            "standoff": 15
           },
           "zerolinecolor": "#EBF0F8",
           "zerolinewidth": 2
          }
         }
        },
        "title": {
         "font": {
          "size": 24
         },
         "text": "Genetic Algorithm Convergence"
        },
        "xaxis": {
         "anchor": "y",
         "domain": [
          0,
          1
         ],
         "title": {
          "font": {
           "size": 18
          },
          "text": "Generation"
         }
        },
        "yaxis": {
         "anchor": "x",
         "domain": [
          0,
          1
         ],
         "title": {
          "font": {
           "size": 18
          },
          "text": "Best Fitness"
         }
        }
       }
      }
     },
     "metadata": {},
     "output_type": "display_data"
    }
   ],
   "source": [
    "df = pd.DataFrame(output[\"convergence\"])\n",
    "\n",
    "fig = px.line(\n",
    "    df,\n",
    "    x=\"generation\",\n",
    "    y=\"fitness\",\n",
    "    title=\"Genetic Algorithm Convergence\",\n",
    "    markers=True,\n",
    "    hover_data={\n",
    "        \"generation\": True,\n",
    "        \"fitness\": True,\n",
    "        \"origin\": True,\n",
    "        \"elapsedSeconds\": ':.6f'\n",
    "    },\n",
    "    labels={\n",
    "        \"fitness\": \"Best Fitness\",\n",
    "        \"generation\": \"Generation\",\n",
    "        \"elapsedSeconds\": \"Elapsed Time (s)\",\n",
    "        \"origin\": \"Origin\"\n",
    "    },\n",
    ")\n",
    "\n",
    "fig.update_layout(\n",
    "    hovermode=\"x unified\",\n",
    "    template=\"plotly_white\",\n",
    "    title_font_size=24,\n",
    "    xaxis_title_font_size=18,\n",
    "    yaxis_title_font_size=18,\n",
    "    font=dict(size=14),\n",
    ")\n",
    "\n",
    "fig.show()"
   ]
  }
 ],
 "metadata": {
  "kernelspec": {
   "display_name": "Python 3",
   "language": "python",
   "name": "python3"
  },
  "language_info": {
   "codemirror_mode": {
    "name": "ipython",
    "version": 3
   },
   "file_extension": ".py",
   "mimetype": "text/x-python",
   "name": "python",
   "nbconvert_exporter": "python",
   "pygments_lexer": "ipython3",
   "version": "3.12.1"
  }
 },
 "nbformat": 4,
 "nbformat_minor": 5
}
